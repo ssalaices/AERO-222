{
  "cells": [
    {
      "cell_type": "markdown",
      "metadata": {
        "id": "-Bvy1nrTZvba"
      },
      "source": [
        "### **Lab 4: Partial Pivoting in Gaussian Elimination**\n",
        "\n",
        "#### **1. Swapping Rows in Python**\n",
        "Define the matrix:\n",
        "\n",
        "$ A = \\begin{bmatrix}2 & 1 & 2 \\\\ 3 & 5 & 2 \\\\ 7 & 4 & 4 \\end{bmatrix} $  \n",
        "\n",
        "We want to swap the first and third row. Our intuition tells us we can do this by defining a new variable (let's call it `holdRow`) that holds the first row, row 0. We can then set row 0 equal to row 2 and use our `holdRow` variable to assign row zero to row 2.\n",
        "\n",
        "Let's try it. Print the matrix $A$ before and after the swap to see if it was swapped successfully.\n"
      ]
    },
    {
      "cell_type": "code",
      "execution_count": 59,
      "metadata": {
        "colab": {
          "base_uri": "https://localhost:8080/"
        },
        "id": "Xy3ByhCTZMwr",
        "outputId": "e940f29d-b119-4260-c010-c0f38e343f42"
      },
      "outputs": [
        {
          "name": "stdout",
          "output_type": "stream",
          "text": [
            "Old A:\n",
            "[[2 1 2]\n",
            " [3 5 2]\n",
            " [7 4 4]]\n",
            "New A:\n",
            "[[7 4 4]\n",
            " [3 5 2]\n",
            " [7 4 4]]\n"
          ]
        }
      ],
      "source": [
        "import numpy as np\n",
        "\n",
        "A = np.array([[2, 1, 2], [3, 5, 2], [7, 4, 4]])\n",
        "\n",
        "print(f\"Old A:\\n{A}\")\n",
        "\n",
        "holdRow = A[0]\n",
        "A[0] = A[2]\n",
        "A[2] = holdRow\n",
        "\n",
        "print(f\"New A:\\n{A}\")"
      ]
    },
    {
      "cell_type": "markdown",
      "metadata": {
        "id": "WptJmsHOrlYK"
      },
      "source": [
        "**You may have noticed that it didn't do what we expected it to.**\n",
        "\n",
        "\n",
        "#### **2. Debugging the Faulty Swap**\n",
        "\n",
        "You should see that two of the rows are the same!\n",
        "\n",
        "This is due to one of the ways that Python stores variables. When you assign a variable to be a collection of elements in an array, Python actually stores an alias of that array, storing the *address* of it instead of the actual values. This means that changes to our variable, i.e., changes to the array, will change the new variable as well.\n",
        "\n",
        "In this case when we change the first row to be [7,4,4], we also inadvertently change `holdRow` to be [7,4,4] because `holdRow` is always equal to *the first row of A*, not actually the list [2,1,2].\n",
        "\n",
        "To see this in action, copy the code from the previous section and print out `holdRow` right after it is assigned and right after the \"swap\" is perfomed."
      ]
    },
    {
      "cell_type": "code",
      "execution_count": 60,
      "metadata": {
        "colab": {
          "base_uri": "https://localhost:8080/"
        },
        "id": "WlNnuDC1vDSe",
        "outputId": "fc72c8e2-1ded-4f6f-83e7-16d76ad55d55"
      },
      "outputs": [
        {
          "name": "stdout",
          "output_type": "stream",
          "text": [
            "Old A:\n",
            "[[2 1 2]\n",
            " [3 5 2]\n",
            " [7 4 4]]\n",
            "holdRow before the swap: [2 1 2]\n",
            "holdRow after the swap: [7 4 4]\n",
            "New A:\n",
            "[[7 4 4]\n",
            " [3 5 2]\n",
            " [7 4 4]]\n"
          ]
        }
      ],
      "source": [
        "A = np.array([[2, 1, 2], [3, 5, 2], [7, 4, 4]])\n",
        "\n",
        "print(f\"Old A:\\n{A}\")\n",
        "\n",
        "holdRow = A[0,:]\n",
        "\n",
        "print(f\"holdRow before the swap: {holdRow}\")\n",
        "\n",
        "A[0, :] = A[2,:]\n",
        "A[2, :] = holdRow\n",
        "\n",
        "print(f\"holdRow after the swap: {holdRow}\")\n",
        "\n",
        "print(f\"New A:\\n{A}\")"
      ]
    },
    {
      "cell_type": "markdown",
      "metadata": {
        "id": "nqCCBEFswYux"
      },
      "source": [
        "#### **3. Using .copy()**\n",
        "\n",
        "The solution to this problem is quite simple. Create a copy of row 0 by adding `.copy()` to the end of the statement where we define `holdRow`. This assigns `holdRow` as a unique COPY of the first row of $A$ and therfore will not change when we change the rows of $A$.\n",
        "\n",
        "So, let's try the swap again, but use `.copy()` this time."
      ]
    },
    {
      "cell_type": "code",
      "execution_count": 61,
      "metadata": {
        "colab": {
          "base_uri": "https://localhost:8080/"
        },
        "id": "ksGa0tD6x7Ui",
        "outputId": "42cf0c8e-432d-4f8e-e7a4-4e7cd8a50ad9"
      },
      "outputs": [
        {
          "name": "stdout",
          "output_type": "stream",
          "text": [
            "Old A:\n",
            "[[2 1 2]\n",
            " [3 5 2]\n",
            " [7 4 4]]\n",
            "holdRow before the swap: [2 1 2]\n",
            "holdRow after the swap: [2 1 2]\n",
            "New A:\n",
            "[[7 4 4]\n",
            " [3 5 2]\n",
            " [2 1 2]]\n"
          ]
        }
      ],
      "source": [
        "A = np.array([[2, 1, 2], [3, 5, 2], [7, 4, 4]])\n",
        "\n",
        "print(f\"Old A:\\n{A}\")\n",
        "\n",
        "holdRow = A[0,:].copy()\n",
        "\n",
        "print(f\"holdRow before the swap: {holdRow}\")\n",
        "\n",
        "A[0, :] = A[2,:]\n",
        "A[2, :] = holdRow\n",
        "\n",
        "print(f\"holdRow after the swap: {holdRow}\")\n",
        "\n",
        "print(f\"New A:\\n{A}\")"
      ]
    },
    {
      "cell_type": "markdown",
      "metadata": {
        "id": "ohUwJPz9yu1Z"
      },
      "source": [
        "#### **4. Finding the Maximum Value in a Column**\n",
        "\n",
        "Now that we know how to swap rows, let's put this to good use.\n",
        "\n",
        "When performing Gaussian elimination, dividing by the largest possible number can reduce roundoff error. Therefore we want to move the row containing the largest element in each column so that the largest number is on the diagonal. We do this by swapping the row with the one that currently sits at the pivot. Remember that negative values are valid too, so use the absolute value of the elements in the column to find the max.\n",
        "\n",
        "Given the matrix $C$ below:\n",
        "\n",
        "$ C = \\begin{bmatrix}2 & 1 & 0 & 3 \\\\ 6 & 4 & 7 & 3 \\\\ 4 & 8 & 12 & 5 \\\\ 9 & 10 & 2 & 5\\end{bmatrix} $\n",
        "\n",
        "Use the NumPy function `argmax()` to find the *location* of the largest absolute value in the first column, then print the number of the row and the value of that element. Swap that row with the first row and print the new $C$."
      ]
    },
    {
      "cell_type": "code",
      "execution_count": 62,
      "metadata": {
        "colab": {
          "base_uri": "https://localhost:8080/"
        },
        "id": "borphuQ-13ki",
        "outputId": "01e4677e-c3b2-4779-e2a3-58b18329beb5"
      },
      "outputs": [
        {
          "name": "stdout",
          "output_type": "stream",
          "text": [
            "Location of max in column 0 is: 3\n",
            "The max value in column 0 is: 9\n",
            "The new C:\n",
            "[[ 9  1  0  3]\n",
            " [10  4  7  3]\n",
            " [ 2  8 12  5]\n",
            " [ 2  6  4  9]]\n"
          ]
        }
      ],
      "source": [
        "C = np.array([[2, 1, 0, 3], [6, 4, 7, 3], [4, 8, 12, 5], [9, 10, 2, 5]])\n",
        "\n",
        "maxLocation = np.argmax(abs(C[:, 0]))\n",
        "\n",
        "print(f\"Location of max in column 0 is: {maxLocation}\")\n",
        "print(f\"The max value in column 0 is: {max(C[:, 0])}\")\n",
        "\n",
        "holdRow = C[:, 0].copy()\n",
        "C[:, 0] = C[maxLocation, :]\n",
        "C[maxLocation, :] = holdRow\n",
        "\n",
        "print(f\"The new C:\\n{C}\")"
      ]
    },
    {
      "cell_type": "markdown",
      "metadata": {
        "id": "3M3Ixig14-8s"
      },
      "source": [
        "#### **5. Adding Pivoting to Gaussian Elimination**\n",
        "\n",
        "Now let's solve a problem with these methods. Take these four equations:\n",
        "\n",
        "> $2x_0 + x_1+ 3x_4 = 9\\\\\n",
        "6x_0 + 4x_1 + 7x_3 + 3x_4 = 5\\\\\n",
        "4x_0 + 8x_1 + 12x_3 + 5x_4 = 4\\\\\n",
        "9x_0 + 10x_1 + 2x_3 + 5x_4 = 1$\n",
        "\n",
        "We want to find $x = [x_0, x_1, x_2, x_3]$, and we can do that very efficiently by using matrices. In this case, we will use:\n",
        "\n",
        "$ C = \\begin{bmatrix}2 & 1 & 0 & 3 \\\\ 6 & 4 & 7 & 3 \\\\ 4 & 8 & 12 & 5 \\\\ 9 & 10 & 2 & 5\\end{bmatrix} B = \\begin{bmatrix} 9 \\\\ 5 \\\\ 4\\\\ 1\\end{bmatrix}$\n",
        "\n",
        "Recalling matrix multiplication, we can find $x$ by solving $Cx=B$. We can do this with Gaussian elimination. The basic Gaussian elimination code from pg. 41 of the textbook is provided in the first code cell below, but we want to improve its accuracy by using partial pivoting.\n",
        "\n",
        "In the second code cell, modify the function to pivot before the elimination of each column. You may copy/paste the code from the textbook or use your own Gaussian elimination code if you choose, but leave the original textbook function to be used for comparison.\n",
        "\n",
        "When looking at the textbook code, answer these questions to better understand what to modify:\n",
        "\n",
        "1.   What does `k` represent?\n",
        "    K represents the \n",
        "2.   What does `i` represent?\n",
        "3.   When do we need to swap rows?\n",
        "4.   Where in the code does the row swapping go?\n",
        "5.   In which rows should we look for the max value at each step?\n",
        "6.   Do we need to swap the rows of $B$ as well?\n",
        "\n",
        "Test your code against the textbook code using the matrix $C$ and the vector $B$. Once you find $x$, compute the residuals by computing $|Cx-B|$ and compare your result to the residuals you get from the non-pivoted example."
      ]
    },
    {
      "cell_type": "code",
      "execution_count": 63,
      "metadata": {
        "colab": {
          "base_uri": "https://localhost:8080/"
        },
        "id": "PJw6HBlG6x10",
        "outputId": "97009c85-a3a4-4380-9c6c-9f44455bb072"
      },
      "outputs": [
        {
          "name": "stdout",
          "output_type": "stream",
          "text": [
            "Final Solution = \n",
            " [[ 0.30322581]\n",
            " [-1.90322581]\n",
            " [ 0.07096774]\n",
            " [ 3.43225806]]\n"
          ]
        }
      ],
      "source": [
        "\n",
        "import numpy as np\n",
        "# TEXTBOOK CODE - DO NOT ALTER\n",
        "\n",
        "C = np.array([[2,1,0,3],[6,4,7,3],[4,8,12,5],[9,10,2,5]],dtype = float)\n",
        "B = np.array([[9],[5],[4],[1]],dtype = float)\n",
        "\n",
        "def gaussElimin(a,b):\n",
        "  n = len(b)\n",
        "  #Elimination Phase\n",
        "  for k in range(0,n-1):\n",
        "    for i in range(k+1,n):\n",
        "      if a[i,k] != 0.0:\n",
        "        lam = a[i,k]/a[k,k]\n",
        "        a[i,k:n] = a[i,k:n] - lam*a[k,k:n]\n",
        "        b[i] = b[i] - lam*b[k]\n",
        "  #Back Substitution\n",
        "  for k in range(n-1,-1,-1):\n",
        "    b[k] = (b[k] - np.dot(a[k,k+1:n],b[k+1:n]))/a[k,k]\n",
        "  return b\n",
        "\n",
        "gauss = gaussElimin(C,B)\n",
        "print('Final Solution = \\n',gauss)"
      ]
    },
    {
      "cell_type": "code",
      "execution_count": 64,
      "metadata": {
        "colab": {
          "base_uri": "https://localhost:8080/"
        },
        "id": "cwlzDBh2N7zr",
        "outputId": "1cd096b4-ac6b-47d0-e3af-2d74e20368c7"
      },
      "outputs": [
        {
          "name": "stdout",
          "output_type": "stream",
          "text": [
            "Final Solution  =\n",
            "\n",
            "Let's make sure we get the same thing as before:\n",
            "\n",
            "Residuals for Pivoted\n",
            "\n",
            "\n",
            "Residuals for non-Pivoted\n",
            "\n"
          ]
        }
      ],
      "source": [
        "# ADD PARTIAL PIVOTING HERE\n",
        "\n",
        "def gaussEliminPartPivot(a,b):\n",
        "  pass\n",
        "\n",
        "print('Final Solution  =')\n",
        "\n",
        "print(\"\\nLet's make sure we get the same thing as before:\\n\")\n",
        "print('Residuals for Pivoted\\n')\n",
        "\n",
        "print('\\nResiduals for non-Pivoted\\n')"
      ]
    },
    {
      "cell_type": "markdown",
      "metadata": {
        "id": "1BJwuzuX1R0m"
      },
      "source": [
        "#### **6. Scaled Partial Pivoting**\n",
        "\n",
        "Roundoff error can be reduced even further if, when the matrix is pivoted, the pivot row is scaled so the largest element in the row is set to 1.\n",
        "\n",
        "Copy the code above and modify it to divide each pivot row by its largest element.\n",
        "\n",
        "Compare the residuals of this method to the residuals you got from the non-pivoted example and the regular partial pivoting solution.\n",
        "\n",
        "\n"
      ]
    },
    {
      "cell_type": "code",
      "execution_count": 65,
      "metadata": {
        "colab": {
          "base_uri": "https://localhost:8080/"
        },
        "id": "xIshaKu0J736",
        "outputId": "07d75fce-6763-4f70-92e2-51d3cac53a75"
      },
      "outputs": [
        {
          "ename": "NameError",
          "evalue": "name 'c' is not defined",
          "output_type": "error",
          "traceback": [
            "\u001b[1;31m---------------------------------------------------------------------------\u001b[0m",
            "\u001b[1;31mNameError\u001b[0m                                 Traceback (most recent call last)",
            "Cell \u001b[1;32mIn[65], line 20\u001b[0m\n\u001b[0;32m     17\u001b[0m     b[k] \u001b[38;5;241m=\u001b[39m (b[k] \u001b[38;5;241m-\u001b[39m np\u001b[38;5;241m.\u001b[39mdot(a[k, k\u001b[38;5;241m+\u001b[39m\u001b[38;5;241m1\u001b[39m:n], b[k\u001b[38;5;241m+\u001b[39m\u001b[38;5;241m1\u001b[39m:n]))\u001b[38;5;241m/\u001b[39ma[k, k]\n\u001b[0;32m     18\u001b[0m   \u001b[38;5;28;01mreturn\u001b[39;00m b\n\u001b[1;32m---> 20\u001b[0m \u001b[38;5;28mprint\u001b[39m(\u001b[38;5;124mf\u001b[39m\u001b[38;5;124m\"\u001b[39m\u001b[38;5;124mFinal Solution = \u001b[39m\u001b[38;5;132;01m{\u001b[39;00mgaussEliminScalePivot(\u001b[43mc\u001b[49m,\u001b[38;5;250m \u001b[39mb)\u001b[38;5;132;01m}\u001b[39;00m\u001b[38;5;124m \u001b[39m\u001b[38;5;124m\"\u001b[39m)\n\u001b[0;32m     22\u001b[0m \u001b[38;5;28mprint\u001b[39m(\u001b[38;5;124m\"\u001b[39m\u001b[38;5;130;01m\\n\u001b[39;00m\u001b[38;5;124mLet\u001b[39m\u001b[38;5;124m'\u001b[39m\u001b[38;5;124ms check the roundoff error again:\u001b[39m\u001b[38;5;130;01m\\n\u001b[39;00m\u001b[38;5;124m\"\u001b[39m)\n\u001b[0;32m     23\u001b[0m \u001b[38;5;28mprint\u001b[39m(\u001b[38;5;124m'\u001b[39m\u001b[38;5;124mResiduals for Scaled Pivoted\u001b[39m\u001b[38;5;130;01m\\n\u001b[39;00m\u001b[38;5;124m'\u001b[39m)\n",
            "\u001b[1;31mNameError\u001b[0m: name 'c' is not defined"
          ]
        }
      ],
      "source": [
        "import numpy as np\n",
        "\n",
        "C = np.array([[2, 1, 0, 3], [6, 4, 7, 3], [4, 8, 12, 5], [9, 10, 2, 5]])\n",
        "\n",
        "B = np.array([[9], [5], [4], [1]])\n",
        "\n",
        "# ADD SCALING HERE\n",
        "\n",
        "def gaussEliminScalePivot(a,b):\n",
        "  n = len(b)\n",
        "  #Elminitation Phase\n",
        "  for k in range(0, n-1): \n",
        "    for i in range(k+1, n): \n",
        "      if a[i, k] != 0.0:\n",
        "        lam = a[i, k]/a[k, k]\n",
        "        a[i, k+1:n] = a[i, k+1:n] - lam*a[k, k+1:n]\n",
        "        b[i] = b[i] - lam*b[k]\n",
        "  #Back substitution\n",
        "  for k in range(n-1, -1, -1):\n",
        "    b[k] = (b[k] - np.dot(a[k, k+1:n], b[k+1:n]))/a[k, k]\n",
        "  return b\n",
        "\n",
        "gauss = gaussEliminScalePivot(C, B)\n",
        "print(f\"Final Solution = \\n{gauss}\")\n",
        "\n",
        "print(\"\\nLet's check the roundoff error again:\\n\")\n",
        "print('Residuals for Scaled Pivoted\\n')\n",
        "\n",
        "print('\\nResiduals for Pivoted\\n')\n",
        "\n",
        "print('\\nResiduals for non-Pivoted\\n')\n",
        "\n",
        "#1. k means the diagonal, the pivot point\n",
        "#2. i means the row\n",
        "#3. right when you start considering the row\n",
        "#4. once everything is 0 in the first column, all the rows below the first row are what matter\n",
        "#5. "
      ]
    },
    {
      "cell_type": "markdown",
      "metadata": {
        "id": "E9bL37A2euzb"
      },
      "source": [
        "#### **7. Why Scale or Pivot?**\n",
        "\n",
        "For the previous problems we can see that there is very little difference between the different methods. Let's look at some cases where that is not the case. Use this new matrix $A$ (instead of $C$) with the same $B$ vector and again compare the residuals of the methods.\n",
        "\n",
        "$A = \\begin{bmatrix}600 & 0 & 1\\times10^{15} & 13 \\\\ 1\\times10^{13} & 5 & 0 & 7 \\\\ 1 & 3 & 5 & 17 \\\\ 1 & 1\\times10^{-6} & 2 & 5\\end{bmatrix} $"
      ]
    },
    {
      "cell_type": "code",
      "execution_count": null,
      "metadata": {
        "colab": {
          "base_uri": "https://localhost:8080/"
        },
        "id": "cEdRAcyrbYZr",
        "outputId": "20e9ec17-88c8-4c55-f873-d888fd46f2fc"
      },
      "outputs": [
        {
          "name": "stdout",
          "output_type": "stream",
          "text": [
            "Residual for Scaled Pivoted\n",
            "\n",
            "\n",
            "Residual for Pivoted\n",
            "\n",
            "\n",
            "Residual for non-Pivoted\n",
            "\n"
          ]
        }
      ],
      "source": [
        "A = np.array([[600,0,1e15,13],[1e13,5,0,7],[1,3,5,17],[1,1e-6,2,5]],dtype = float)\n",
        "B = np.array([[9],[5],[4],[1]],dtype = float)\n",
        "\n",
        "def gaussEliminPartPivot(a, b):\n",
        "    \n",
        "\n",
        "print('Residual for Scaled Pivoted\\n')\n",
        "\n",
        "print('\\nResidual for Pivoted\\n')\n",
        "\n",
        "print('\\nResidual for non-Pivoted\\n')"
      ]
    },
    {
      "cell_type": "markdown",
      "metadata": {
        "id": "vPEIiJ7H-UYd"
      },
      "source": [
        "Additional optional exercise: Convert the textbook code for Gaussian Elimination so that it utilizies an augmented matrix (i.e., if matrix $A$ is a matrix of size $n\\times n$, then the Gaussian Elimination of $Ax = b$ could also be done by performing all of the row operations on some matrix $C$ of size $n \\times (n+1)$, in which the last column is $b$.\n"
      ]
    },
    {
      "cell_type": "code",
      "execution_count": null,
      "metadata": {
        "id": "Hor8zT08-UYd"
      },
      "outputs": [],
      "source": []
    }
  ],
  "metadata": {
    "colab": {
      "provenance": []
    },
    "kernelspec": {
      "display_name": "Python 3 (ipykernel)",
      "language": "python",
      "name": "python3"
    },
    "language_info": {
      "codemirror_mode": {
        "name": "ipython",
        "version": 3
      },
      "file_extension": ".py",
      "mimetype": "text/x-python",
      "name": "python",
      "nbconvert_exporter": "python",
      "pygments_lexer": "ipython3",
      "version": "3.11.0"
    }
  },
  "nbformat": 4,
  "nbformat_minor": 0
}
