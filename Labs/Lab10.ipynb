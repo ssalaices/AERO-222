{
  "cells": [
    {
      "cell_type": "markdown",
      "metadata": {
        "id": "GqvloIZRHD5Y"
      },
      "source": [
        "### **Lab 10: Gauss-Legendre Integration**\n",
        "\n",
        "\n",
        "Lab Goals\n",
        "*   Practice implementing Gauss-Quadrature\n",
        "*   Using in-built functions in Python to determine the Gauss-Quadrature points and weights\n",
        "\n"
      ]
    },
    {
      "cell_type": "markdown",
      "metadata": {
        "id": "FoM2-1vuE08P"
      },
      "source": [
        "#### **1. Mapping to Normalized Coordinates**\n",
        "\n",
        "Given the integral:\n",
        "\n",
        "$$I   =  \\int_{-2}^{4} 3x^2+4\\,\\mathrm{d} x$$\n",
        "where:\n",
        "$$F(x) = 3x^2+4$$\n",
        "\n",
        "Evaluate this integral by hand and write it down for later comparison.\n",
        "\n",
        "Now, still by hand, map the integral from the given bounds of $x = [-2,4]$ into a normalized coordinate system with bounds of $\\rho = [-1,1]$ using a linear mapping method, where $a$ is the lower bound and $b$ the upper bound of our original integral:\n",
        "\n",
        "$$x = \\frac{1}{2}(1 - \\rho)a + \\frac{1}{2}(1+\\rho)b$$\n",
        "\n",
        "The transformed integral should be\n",
        "\n",
        "$$I = \\int_{-1}^{1}[27\\rho^2 + 18\\rho + 7] \\mathrm{d}x = \\int_{-1}^{1} P(\\rho)J\\, \\mathrm{d}\\rho$$\n",
        "\n",
        "where $J$ is the jacobian given by:\n",
        "\n",
        "$$J = \\frac{\\mathrm{d}x}{\\mathrm{d}\\rho}$$"
      ]
    },
    {
      "cell_type": "markdown",
      "metadata": {
        "id": "aVRC0cr-IsC4"
      },
      "source": [
        "#### **2. Two Point Gauss-Legendre Quadrature**\n",
        "\n",
        "Given that our integral is now given by:\n",
        "\n",
        "$$I = \\int_{-1}^{1}[27\\rho^2 + 18\\rho + 7]J\\,\\mathrm{d}\\rho$$\n",
        "\n",
        "Evaluate the integral by hand using 2 point Gauss-Legendre. The expression for the integral is given by:\n",
        "\n",
        "$$I = \\sum_{i = 0}^1 w_iP(\\rho_i)J$$\n",
        "\n",
        "where we know from tables that two-point Gauss-Legendre gives:\n",
        "\n",
        "$$\\rho = \\left[-\\frac{1}{\\sqrt{3}},\\frac{1}{\\sqrt{3}}\\right], \\qquad w = [1,1]$$\n",
        "\n",
        "In Python, write a function that accepts the following inputs:  \n",
        "\n",
        "*   function handle of the unmapped function $F(x)$\n",
        "*   the limits of the integral $a$ and $b$.\n",
        "\n",
        "The function should and return the approximation of the integral using  2 pt. Gauss-Legendre Quadrature.\n",
        "\n",
        "Do not forget to convert $x$ to $\\rho$ using the coordinate mapping discussed in Problem 1. Also do not forget your Jacobian!!!\n",
        "\n"
      ]
    },
    {
      "cell_type": "code",
      "execution_count": 28,
      "metadata": {
        "id": "m3Dk4btTq4iR"
      },
      "outputs": [
        {
          "name": "stdout",
          "output_type": "stream",
          "text": [
            "The solution of 2 point Gauss-Legendre is 96.0\n",
            "The true analytical solution is 96.\n"
          ]
        }
      ],
      "source": [
        "import numpy as np\n",
        "from math import sqrt\n",
        "\n",
        "# Starter Code\n",
        "def F(x):\n",
        "    return 3*x**2+4 # Function to be integrated\n",
        "\n",
        "a = -2.\n",
        "b = 4.\n",
        "\n",
        "def TwoptGaussQuad(f,a,b):\n",
        "    w = np.array([1, 1]) #weights are both 1\n",
        "    rho = np.array([-1/sqrt(3), 1/sqrt(3)])\n",
        "\n",
        "    x = .5*(1 - rho)*a + .5*(1 + rho)*b \n",
        "    J = (b - a)/2\n",
        "\n",
        "    I_GL = 0 #summation initialization\n",
        "\n",
        "    for i in range(len(rho)):\n",
        "        I_GL += w[i]*f(x[i])\n",
        "    I_GL *= J\n",
        "\n",
        "    return I_GL\n",
        "\n",
        "print(f\"The solution of 2 point Gauss-Legendre is {TwoptGaussQuad(F, a, b)}\")\n",
        "print(f\"The true analytical solution is 96.\")"
      ]
    },
    {
      "cell_type": "markdown",
      "metadata": {
        "id": "RJM_LbhCRHKK"
      },
      "source": [
        "#### **3. Three-Point Gauss-Legendre**\n",
        "\n",
        "By hand try using three points! You can get the weights $w$ and integration points $\\rho$ from the given NumPy function.\n",
        "\n"
      ]
    },
    {
      "cell_type": "code",
      "execution_count": 29,
      "metadata": {
        "id": "6_DZ9hgpq8cQ"
      },
      "outputs": [
        {
          "name": "stdout",
          "output_type": "stream",
          "text": [
            "Rho : [-0.77459667  0.          0.77459667]\n",
            "w : [0.55555556 0.88888889 0.55555556]\n"
          ]
        }
      ],
      "source": [
        "# Starter Code\n",
        "\n",
        "import numpy as np\n",
        "\n",
        "[rho, w] = np.polynomial.legendre.leggauss(3)\n",
        "\n",
        "print(f\"Rho : {rho}\")\n",
        "print(f\"w : {w}\")"
      ]
    },
    {
      "cell_type": "markdown",
      "metadata": {
        "id": "2fiTKIjyu5B7"
      },
      "source": [
        "#### **4. Higher Order Gauss-Legendre**\n",
        "\n",
        "Modify your function from the previous segment to work for any number of points $n$.\n",
        "\n",
        "Incorporate the built-in NumPy function that returns the weights and points that we used in part 3.\n",
        "\n",
        "Test your integration for 3 points, 4 points, 5 points and 6 points on the function:\n",
        "\n",
        "$$I = \\int_{0}^{\\pi} e^{2x}\\cos(3x) \\, \\mathrm{d}x$$\n",
        "\n",
        "whose analytical solution is:\n",
        "\n",
        "$$I =  -\\frac{2}{13}\\left(1+e^{2\\pi}\\right)$$\n",
        "\n",
        "Compare the error for each integration."
      ]
    },
    {
      "cell_type": "code",
      "execution_count": 30,
      "metadata": {
        "id": "cHqxYomPq9RA"
      },
      "outputs": [
        {
          "name": "stdout",
          "output_type": "stream",
          "text": [
            "The solution using 3 porint Gauss-Legendre is -111.22554913564171\n",
            "Error: 28.688371362601004\n",
            "\n",
            "The solution using 4 porint Gauss-Legendre is -88.60625411624451\n",
            "Error: 6.069076343203804\n",
            "\n",
            "The solution using 5 porint Gauss-Legendre is -81.86749891924768\n",
            "Error: 0.6696788537930303\n",
            "\n",
            "The solution using 6 porint Gauss-Legendre is -82.52544019834322\n",
            "Error: 0.011737574697491482\n",
            "\n"
          ]
        }
      ],
      "source": [
        "# Starter Code\n",
        "\n",
        "def F2(x):\n",
        "    return np.exp(2*x)*np.cos(3*x) # Function to be integrated\n",
        "\n",
        "a = 0\n",
        "b = np.pi\n",
        "\n",
        "def gaussQuadrature(f,a,b,n):\n",
        "    [rho, w] = np.polynomial.legendre.leggauss(n)\n",
        "\n",
        "    x = .5*(1 - rho)*a + .5*(1 + rho)*b \n",
        "    J = (b - a)/2\n",
        "\n",
        "    I_GL = 0 #summation initialization\n",
        "\n",
        "    for i in range(len(rho)):\n",
        "        I_GL += w[i]*f(x[i])\n",
        "\n",
        "    I_GL *= J\n",
        "        \n",
        "    return I_GL\n",
        "\n",
        "I_a = -(2/13)*(1 + np.exp(2*np.pi))\n",
        "\n",
        "for n in range(3, 7):\n",
        "    I = gaussQuadrature(F2, a, b, n)\n",
        "    print(f\"The solution using {n} porint Gauss-Legendre is {I}\")\n",
        "\n",
        "    error = abs(I - I_a)\n",
        "    print(f\"Error: {error}\\n\")"
      ]
    },
    {
      "cell_type": "markdown",
      "metadata": {
        "id": "KSSQ1svbvarl"
      },
      "source": [
        "#### **5. Integrating Along the Length of a Curve**\n",
        "\n",
        "Observe the following plot of one quarter of the unit circle."
      ]
    },
    {
      "cell_type": "code",
      "execution_count": 31,
      "metadata": {
        "colab": {
          "base_uri": "https://localhost:8080/",
          "height": 430
        },
        "id": "rkL55CyIvbWl",
        "outputId": "5d3034df-0d88-4386-a2cf-3449da7ee285"
      },
      "outputs": [
        {
          "data": {
            "image/png": "[encoded data removed]",
            "text/plain": [
              "<Figure size 640x480 with 1 Axes>"
            ]
          },
          "metadata": {},
          "output_type": "display_data"
        }
      ],
      "source": [
        "# Provided Code\n",
        "\n",
        "import numpy as np\n",
        "import matplotlib.pyplot as plt\n",
        "\n",
        "xpts = np.append(np.linspace(0, 0.8, 81), np.linspace(0.8, 1.0, 81))\n",
        "ypts = np.sqrt(1-xpts**2)\n",
        "plt.plot(xpts,ypts)\n",
        "ax = plt.gca()\n",
        "ax.set_aspect('equal')\n",
        "plt.show()"
      ]
    },
    {
      "cell_type": "markdown",
      "metadata": {
        "id": "-KI3Y9GXL1Ex"
      },
      "source": [
        "\n",
        "\n",
        "We can also use Gauss-Legendre to integrate along the length of a curve such as this one. The expression for the arc length can be written as:\n",
        "\n",
        "$$I = \\int_{S_1}^{S_2} \\mathrm{d}S = \\int_{-1}^{1}J \\mathrm{d}\\rho$$\n",
        "\n",
        "The Jacobian is given by:\n",
        "\n",
        "$$J = \\frac{\\mathrm{d}s}{\\mathrm{d}\\rho} = \\left[\\left(\\frac{\\mathrm{d}x}{\\mathrm{d}\\rho} \\right)^2 + \\left(\\frac{\\mathrm{d}y}{\\mathrm{d}\\rho} \\right)^2\\right]^{\\frac{1}{2}}$$\n",
        "\n",
        "Conceptual question: **Why is this the Jacobian?**\n",
        "\n",
        "Lets use a second order coordinate mapping of $x$ and $y$ given by:\n",
        "\n",
        "$$ N = \\left[ \\frac{1}{2}\\rho(\\rho-1), \\quad -\\rho^2 + 1, \\, \\quad \\frac{1}{2}\\rho(\\rho+1) \\right]^T$$\n",
        "\n",
        "This means we have both $x$ and $y$ in terms of $\\rho$ (a parameterization). This is the same thing as our equation for the linear mapping, but there, we only had two points (the endpoints, $x_0=a$ and $x_1=b$). With three points, it looks like this:\n",
        "\n",
        "$$x(\\rho)=\\sum_{i=0}^2x_iN_i, \\qquad y(\\rho)=\\sum_{i=0}^2y_iN_i$$\n",
        "\n",
        "This means we will need three points in $x$ and $y$. Our second order mapping is mapping these points to $\\rho$ values of $-1, 0,$ and $1$. **What $x$ and $y$ values should we choose along the arc?**\n",
        "\n",
        "Furthermore, notice that we only have $J$ in the integrand! That means we only need $\\frac{\\mathrm{d}x}{\\mathrm{d}\\rho}$ and $\\frac{\\mathrm{d}y}{\\mathrm{d}\\rho}$, not $x$ or $y$. **How can we define these derivatives?**\n",
        "\n",
        "$$\\frac{\\mathrm{d}x}{\\mathrm{d}\\rho} = \\frac{\\mathrm{d}x}{\\mathrm{d}N}\\frac{\\mathrm{d}N}{\\mathrm{d}\\rho}, \\qquad \\frac{\\mathrm{d}y}{\\mathrm{d}\\rho} = \\frac{\\mathrm{d}y}{\\mathrm{d}N}\\frac{\\mathrm{d}N}{\\mathrm{d}\\rho}$$\n",
        "\n",
        "We will use this to find the arc length of a quarter of the unit circle. **What is the analytical solution? How does it compare to our integration?**"
      ]
    },
    {
      "cell_type": "code",
      "execution_count": 32,
      "metadata": {
        "id": "IO4hqrASq-Sg"
      },
      "outputs": [],
      "source": [
        "# Starter Code\n",
        "\n"
      ]
    },
    {
      "cell_type": "code",
      "execution_count": 33,
      "metadata": {
        "id": "qO5YfdV83cFw"
      },
      "outputs": [
        {
          "data": {
            "text/plain": [
              "1.5707963267948966"
            ]
          },
          "execution_count": 33,
          "metadata": {},
          "output_type": "execute_result"
        }
      ],
      "source": [
        "# Solution when paramaterized normally (i.e., we know the function)\n",
        "# This is NOT the approach we are using in the above code cell\n",
        "\n",
        "def fqtrcir(theta):  # In polar coordinates, and we know r = 1\n",
        "  return 1\n",
        "\n",
        "gaussQuadrature(fqtrcir, 0, np.pi/2, 1)  # Make sure you define this function!"
      ]
    }
  ],
  "metadata": {
    "colab": {
      "provenance": []
    },
    "kernelspec": {
      "display_name": "Python 3 (ipykernel)",
      "language": "python",
      "name": "python3"
    },
    "language_info": {
      "codemirror_mode": {
        "name": "ipython",
        "version": 3
      },
      "file_extension": ".py",
      "mimetype": "text/x-python",
      "name": "python",
      "nbconvert_exporter": "python",
      "pygments_lexer": "ipython3",
      "version": "3.11.0"
    }
  },
  "nbformat": 4,
  "nbformat_minor": 0
}
