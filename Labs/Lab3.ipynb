{
  "cells": [
    {
      "cell_type": "markdown",
      "metadata": {
        "id": "VYUGoPnW2YX2"
      },
      "source": [
        "### **Lab 3: Matrix operations**"
      ]
    },
    {
      "cell_type": "markdown",
      "metadata": {
        "id": "kyPGRkaYF8kU"
      },
      "source": [
        "Given the vectors $A$ and $B$ and the matricies $C$ and $D$ below:"
      ]
    },
    {
      "cell_type": "code",
      "execution_count": 1,
      "metadata": {
        "colab": {
          "base_uri": "https://localhost:8080/",
          "height": 156
        },
        "id": "fRXunkREGJyK",
        "outputId": "c8bdc4f1-6c4e-4268-b8a7-f6c19c2398ce"
      },
      "outputs": [
        {
          "data": {
            "text/latex": [
              "$\\displaystyle \\mathtt{\\text{A=}}\\left[\\begin{matrix}3\\\\4\\\\8\\end{matrix}\\right]\\mathtt{\\text{      B=}}\\left[\\begin{matrix}6\\\\2\\\\1\\end{matrix}\\right]\\mathtt{\\text{}}\\mathtt{\\text{}}$"
            ],
            "text/plain": [
              "<IPython.core.display.Math object>"
            ]
          },
          "metadata": {},
          "output_type": "display_data"
        },
        {
          "name": "stdout",
          "output_type": "stream",
          "text": [
            "\n"
          ]
        },
        {
          "data": {
            "text/latex": [
              "$\\displaystyle \\mathtt{\\text{C=}}\\left[\\begin{matrix}2 & 9 & 7\\\\3 & 4 & 1\\\\1 & 6 & 5\\end{matrix}\\right]\\mathtt{\\text{     D=}}\\left[\\begin{matrix}4 & 3\\\\1 & 6\\\\8 & 7\\end{matrix}\\right]\\mathtt{\\text{}}\\mathtt{\\text{}}$"
            ],
            "text/plain": [
              "<IPython.core.display.Math object>"
            ]
          },
          "metadata": {},
          "output_type": "display_data"
        }
      ],
      "source": [
        "# Provided code\n",
        "\n",
        "import numpy as np\n",
        "import sympy as sym\n",
        "import IPython\n",
        "from IPython.display import display\n",
        "\n",
        "def displayH(a1,a2='', a3='', a4='', a5='', a6='', ):\n",
        "    latex_a1 = sym.latex(a1)\n",
        "    latex_a2 = sym.latex(a2)\n",
        "    latex_a3 = sym.latex(a3)\n",
        "    latex_a4 = sym.latex(a4)\n",
        "    latex_a5 = sym.latex(a5)\n",
        "    latex_a6 = sym.latex(a6)\n",
        "    display(IPython.core.display.Math(latex_a1 + latex_a2 + latex_a3 + latex_a4 + latex_a5 + latex_a6 ))\n",
        "\n",
        "A = np.array([3,4,8])\n",
        "B = np.array([6,2,1])\n",
        "C = np.array([[2,9,7],[3,4,1],[1,6,5]])\n",
        "D = np.array([[4,3],[1,6],[8,7]])\n",
        "displayH('A=',sym.Matrix(A), '      B=', sym.Matrix(B))\n",
        "print('')\n",
        "displayH('C=', sym.Matrix(C), '     D=', sym.Matrix(D) )"
      ]
    },
    {
      "cell_type": "markdown",
      "metadata": {
        "id": "C9UHGn26Gpug"
      },
      "source": [
        "#### **1. Complete the following operations by hand:**\n",
        "\n",
        "1. The dot product: $A \\cdot B$\n",
        "2. The cross product: $A \\times B$\n",
        "3. Matrix times a vector: $CA$\n",
        "4. Matrix times a matrix: $CD$"
      ]
    },
    {
      "cell_type": "markdown",
      "metadata": {
        "id": "POKEHGy2Hfa5"
      },
      "source": [
        "#### **2. Repeat task 1, but now use python**\n",
        "\n",
        "Complete the operations in python **without** using any built in functions (e.g. `np.matmul`) or colon notation. Use only loops and your knowlege of matrix operations.\n",
        "\n"
      ]
    },
    {
      "cell_type": "code",
      "execution_count": 2,
      "metadata": {
        "colab": {
          "base_uri": "https://localhost:8080/"
        },
        "id": "uz6Ml-AbIX7F",
        "outputId": "af9ce6e0-bcfc-4f3d-b99c-5679f4eaceff"
      },
      "outputs": [
        {
          "name": "stdout",
          "output_type": "stream",
          "text": [
            "The dot product A.B = 34\n"
          ]
        }
      ],
      "source": [
        "#1 Dot Product: A . B\n",
        "\n",
        "def DotProduct(A, B):\n",
        "    sum = 0\n",
        "    for i in range(len(A)):\n",
        "        sum += A[i] * B[i]\n",
        "    return sum\n",
        "\n",
        "print(f\"The dot product A.B = {DotProduct(A, B)}\")"
      ]
    },
    {
      "cell_type": "code",
      "execution_count": null,
      "metadata": {},
      "outputs": [],
      "source": []
    },
    {
      "cell_type": "code",
      "execution_count": null,
      "metadata": {},
      "outputs": [],
      "source": []
    },
    {
      "cell_type": "code",
      "execution_count": 3,
      "metadata": {
        "colab": {
          "base_uri": "https://localhost:8080/"
        },
        "id": "DqFZX0oQIXlj",
        "outputId": "5cc28933-f49c-40b1-8892-7cf4df54b5be"
      },
      "outputs": [
        {
          "name": "stdout",
          "output_type": "stream",
          "text": [
            "The cross product AxB is: [-12, 45, -18]\n"
          ]
        }
      ],
      "source": [
        "#2 Cross Product:  A x B\n",
        "\n",
        "def CrossProduct(A, B):\n",
        "    C = [\n",
        "        A[1]*B[2] - B[1]*A[2],\n",
        "        -(A[0]*B[2] - A[2]*B[0]),\n",
        "        A[0]*B[1] - A[1]*B[0]\n",
        "    ]\n",
        "    return C\n",
        "\n",
        "print(f\"The cross product AxB is: {CrossProduct(A, B)}\")"
      ]
    },
    {
      "cell_type": "code",
      "execution_count": 4,
      "metadata": {
        "colab": {
          "base_uri": "https://localhost:8080/"
        },
        "id": "mJPlmSbwIXYe",
        "outputId": "bd38d922-0601-4110-f847-41c9236a7772"
      },
      "outputs": [
        {
          "name": "stdout",
          "output_type": "stream",
          "text": [
            "Matrix * Vector: [C][A] = [98. 33. 67.]\n"
          ]
        }
      ],
      "source": [
        "#3 Matrix * Vector:   [C][A]\n",
        "\n",
        "def MatrixVector(M, V):\n",
        "    sum = 0\n",
        "    result = np.zeros(V.shape[0])\n",
        "    for i in range(M.shape[0]):\n",
        "        for j in range(M.shape[0]):\n",
        "            result[i] = result[i] + M[i, j] * V[j]\n",
        "    return result\n",
        "\n",
        "print(f\"Matrix * Vector: [C][A] = {MatrixVector(C, A)}\")"
      ]
    },
    {
      "cell_type": "code",
      "execution_count": 5,
      "metadata": {
        "colab": {
          "base_uri": "https://localhost:8080/"
        },
        "id": "F4588MjBIXIG",
        "outputId": "e519a858-e7b2-49b8-b219-a3cd0951e829"
      },
      "outputs": [
        {
          "name": "stdout",
          "output_type": "stream",
          "text": [
            "Matrix*Matrix: [C][D] = \n",
            "[[ 73. 109.]\n",
            " [ 24.  40.]\n",
            " [ 50.  74.]]\n"
          ]
        }
      ],
      "source": [
        "#4 Matrix * Matrix:  [C][D]\n",
        "\n",
        "def MatrixMatrix(A, B):\n",
        "    R = np.zeros((A.shape[0], B.shape[1]))\n",
        "    for i in range(A.shape[0]):\n",
        "        for j in range(B.shape[1]):\n",
        "            for k in range(A.shape[1]):\n",
        "                R[i, j] += A[i, k] * B[k, j]\n",
        "    return(R)\n",
        "\n",
        "print(f\"Matrix*Matrix: [C][D] = \\n{MatrixMatrix(C, D)}\")"
      ]
    },
    {
      "cell_type": "markdown",
      "metadata": {
        "id": "PKvppDIoJvZa"
      },
      "source": [
        "#### **3. Use of colon notation**\n",
        "\n",
        "Given the matrix:\n",
        "\n",
        "$A = \\begin{bmatrix}\n",
        "  1 & 2 & 4 & 7 & 11 \\\\\n",
        "  2 & 3 & 5 & 8 & 12 \\\\\n",
        "  4 & 5 & 6 & 9 & 13 \\\\\n",
        "  7 & 8 & 9 & 10 & 14 \\\\\n",
        "  11 & 12 & 13 & 14 & 15 \\\\\n",
        "\\end{bmatrix}$\n",
        "\n",
        "Replace all elements above the diagonal with zeros by iterating through the array with two nested `for` loops."
      ]
    },
    {
      "cell_type": "code",
      "execution_count": 6,
      "metadata": {
        "colab": {
          "base_uri": "https://localhost:8080/"
        },
        "id": "NsXv4RbBLcJ5",
        "outputId": "1d74a236-1c72-4761-e1a1-053859fc0f98"
      },
      "outputs": [
        {
          "name": "stdout",
          "output_type": "stream",
          "text": [
            "Before:\n",
            "[[ 1  2  4  7 11]\n",
            " [ 2  3  5  8 12]\n",
            " [ 4  5  6  9 13]\n",
            " [ 7  8  9 10 14]\n",
            " [11 12 13 14 15]]\n",
            "\n",
            "After:\n",
            "[[ 1  0  0  0  0]\n",
            " [ 2  3  0  0  0]\n",
            " [ 4  5  6  0  0]\n",
            " [ 7  8  9 10  0]\n",
            " [11 12 13 14 15]]\n"
          ]
        }
      ],
      "source": [
        "A = [[1,2,4,7,11],[2,3,5,8,12],[4,5,6,9,13],[7,8,9,10,14],[11,12,13,14,15]]\n",
        "# n = np.shape(A)[0]  # Potentially useful! What is n here?\n",
        "\n",
        "n = 0\n",
        "newA = []\n",
        "for oneList in A:\n",
        "    n += 1\n",
        "    firstHalf = oneList[0:n]\n",
        "    for i in range(len(oneList) - n):\n",
        "        firstHalf.append(0)\n",
        "    newA.append(firstHalf)\n",
        "\n",
        "A = np.array(A)\n",
        "newA = np.array(newA)\n",
        "\n",
        "print(f\"Before:\\n{A}\\n\")\n",
        "print(f\"After:\\n{newA}\")"
      ]
    },
    {
      "cell_type": "markdown",
      "metadata": {
        "id": "th708K29P-Yk"
      },
      "source": [
        "Perform the same operation above but use only one `for` loop and colon notation to eliminate the elements above the diagonal."
      ]
    },
    {
      "cell_type": "code",
      "execution_count": 7,
      "metadata": {
        "colab": {
          "base_uri": "https://localhost:8080/"
        },
        "id": "-O12ad9IQTpb",
        "outputId": "d97fd3a0-296a-4dd7-da08-9a2880fbf337"
      },
      "outputs": [
        {
          "name": "stdout",
          "output_type": "stream",
          "text": [
            "[[ 1  0  0  0  0]\n",
            " [ 2  3  0  0  0]\n",
            " [ 4  5  6  0  0]\n",
            " [ 7  8  9 10  0]\n",
            " [11 12 13 14 15]]\n"
          ]
        }
      ],
      "source": [
        "A = np.array([[1,2,4,7,11],[2,3,5,8,12],[4,5,6,9,13],[7,8,9,10,14],[11,12,13,14,15]])\n",
        "\n",
        "n = np.shape(A)[0]\n",
        "\n",
        "for i in range(n):\n",
        "    A[i, (i+1):] = 0\n",
        "print(A)"
      ]
    },
    {
      "cell_type": "markdown",
      "metadata": {
        "id": "p1KHVqrgROGm"
      },
      "source": [
        "Print out each row using colon notation to exclude the elements above the diagonal."
      ]
    },
    {
      "cell_type": "code",
      "execution_count": 8,
      "metadata": {
        "colab": {
          "base_uri": "https://localhost:8080/"
        },
        "id": "uF1t8bBiRX6F",
        "outputId": "6e28c599-2d25-40ca-a5ae-1275abec3ecd"
      },
      "outputs": [
        {
          "name": "stdout",
          "output_type": "stream",
          "text": [
            "[1]\n",
            "[2 3]\n",
            "[4 5 6]\n",
            "[ 7  8  9 10]\n",
            "[11 12 13 14 15]\n"
          ]
        }
      ],
      "source": [
        "for i in range(n):\n",
        "    print(A[i, 0:i+1])"
      ]
    },
    {
      "cell_type": "markdown",
      "metadata": {
        "id": "3kmmZy3wKyPq"
      },
      "source": [
        "Create a matrix $B$ that is the transpose of the lower-diagonal $A$ using colon notation to move only the non-zero elements."
      ]
    },
    {
      "cell_type": "code",
      "execution_count": 9,
      "metadata": {
        "colab": {
          "base_uri": "https://localhost:8080/"
        },
        "id": "-l24XxIxL01J",
        "outputId": "26d2266f-4e20-4d2f-f5db-a20ad2cc7389"
      },
      "outputs": [
        {
          "name": "stdout",
          "output_type": "stream",
          "text": [
            "[[ 1  2  4  7 11]\n",
            " [ 0  3  5  8 12]\n",
            " [ 0  0  6  9 13]\n",
            " [ 0  0  0 10 14]\n",
            " [ 0  0  0  0 15]]\n"
          ]
        }
      ],
      "source": [
        "# Use colon notation to transpose lower diagonal A into upper diagonal B\n",
        "\n",
        "B = np.zeros_like(A)\n",
        "for i in range(n):\n",
        "    B[0:i+1, i] = A[i, 0:i+1]\n",
        "print(B)"
      ]
    },
    {
      "cell_type": "markdown",
      "metadata": {
        "id": "NMk-enZp3PXA"
      },
      "source": [
        "Additional optional exercise: Identify functions from Numpy or another package that perform the same operations (dot product, cross product, matrix multiplication, and matrix transpose). Generate a large matrix and time them to see which is faster. Then try timing with different functions from `time` to see how they work."
      ]
    },
    {
      "cell_type": "code",
      "execution_count": 10,
      "metadata": {
        "id": "hxxfKaspYX6h"
      },
      "outputs": [],
      "source": [
        "# Do this for more practice and better understanding of useful functions"
      ]
    }
  ],
  "metadata": {
    "colab": {
      "provenance": []
    },
    "kernelspec": {
      "display_name": "Python 3 (ipykernel)",
      "language": "python",
      "name": "python3"
    },
    "language_info": {
      "codemirror_mode": {
        "name": "ipython",
        "version": 3
      },
      "file_extension": ".py",
      "mimetype": "text/x-python",
      "name": "python",
      "nbconvert_exporter": "python",
      "pygments_lexer": "ipython3",
      "version": "3.11.0"
    }
  },
  "nbformat": 4,
  "nbformat_minor": 0
}
