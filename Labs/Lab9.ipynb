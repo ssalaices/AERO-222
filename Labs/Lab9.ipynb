{
  "cells": [
    {
      "cell_type": "markdown",
      "metadata": {
        "id": "T-k7VykEGSSL"
      },
      "source": [
        "### **Lab 9: Numerical Differentiation**\n",
        "\n",
        "1. Practice numerical differentiation using finite difference methods.\n",
        "2. Demonstrate the limitations of numerical differentialtion.\n",
        "3. Demonstrate that finite difference methods amplify signal noise.\n",
        "4. Compare least-squares and numerical differentiation techniques based on Taylor series"
      ]
    },
    {
      "cell_type": "markdown",
      "metadata": {
        "id": "f-wTQtuYlntI"
      },
      "source": [
        "#### **1. Difference Methods**"
      ]
    },
    {
      "cell_type": "markdown",
      "metadata": {
        "id": "tSABUpXKBRpi"
      },
      "source": [
        "See the following tables for the difference formulas (also found in Section 5.2 of the textbook, which starts on p. 183).\n",
        "\n",
        "$\\begin{array}{|c|r|} \\hline\n",
        "              &f(x-2h)& f(x-h)&  f(x) & f(x+h)&f(x+2h)\\\\ \\hline\n",
        "2hf'(x)       &       &  -1   &   0   &   1   &       \\\\ \\hline\n",
        "h^2f''(x)     &       &   1   &  -2   &   1   &       \\\\ \\hline\n",
        "2h^3f'''(x)   &  -1   &   2   &   0   &  -2   &   1   \\\\ \\hline\n",
        "h^4f^{(4)}(x) &   1   &  -4   &   6   &  -4   &   1   \\\\ \\hline\n",
        "\\end{array}$\n",
        "\n",
        "**Table 5.1.** Coefficients of Central Finite Difference Approximations of $\\mathcal{O}(h^2)$\n",
        "\n",
        "$\\begin{array}{|c|r|} \\hline\n",
        "             &  f(x) & f(x+h)&f(x+2h)&f(x+3h)&f(x+4h)\\\\ \\hline\n",
        "hf'(x)       &  -1   &   1   &       &       &       \\\\ \\hline\n",
        "h^2f''(x)    &   1   &  -2   &   1   &       &       \\\\ \\hline\n",
        "h^3f'''(x)   &  -1   &   3   &  -3   &       &       \\\\ \\hline\n",
        "h^4f^{(4)}(x)&   1   &  -4   &   6   &  -4   &   1   \\\\ \\hline\n",
        "\\end{array}$\n",
        "\n",
        "**Table 5.2a.** Coefficients of Forward Finite Difference Approximations of $\\mathcal{O}(h)$\n",
        "\n",
        "$\\begin{array}{|c|r|} \\hline\n",
        "             &f(x-4h)&f(x-3h)&f(x-2h)& f(x-h)&  f(x) \\\\ \\hline\n",
        "hf'(x)       &       &       &       &  -1   &   1   \\\\ \\hline\n",
        "h^2f''(x)    &       &       &   1   &  -2   &   1   \\\\ \\hline\n",
        "h^3f'''(x)   &       &  -1   &   3   &  -3   &   1   \\\\ \\hline\n",
        "h^4f^{(4)}(x)&   1   &  -4   &   6   &  -4   &   1   \\\\ \\hline\n",
        "\\end{array}$\n",
        "\n",
        "**Table 5.2b.** Coefficients of Backward Finite Difference Approximations of $\\mathcal{O}(h)$\n",
        "\n",
        "\n",
        "$\\begin{array}{|c|r|} \\hline\n",
        "             &  f(x) & f(x+h)&f(x+2h)&f(x+3h)&f(x+4h)&f(x+5h)\\\\ \\hline\n",
        "2hf'(x)       &  -3   &    4  &   -1  &       &       &       \\\\ \\hline\n",
        "h^2f''(x)    &   2   &   -5  &    4  &   -1  &       &       \\\\ \\hline\n",
        "2h^3f'''(x)   &  -5   &   18  &  -24  &   14  &   -3  &       \\\\ \\hline\n",
        "h^4f^{(4)}(x)&   3   &  -14  &   26  &  -24  &   11  &   -2  \\\\ \\hline\n",
        "\\end{array}$\n",
        "\n",
        "**Table 5.3a.** Coefficients of Forward Finite Difference Approximations of $\\mathcal{O}(h^2)$\n",
        "\n",
        "$\\begin{array}{|c|r|} \\hline\n",
        "             &f(x-5h)&f(x-4h)&f(x-3h)&f(x-2h)& f(x-h)&  f(x) \\\\ \\hline\n",
        "2hf'(x)       &       &       &       &    1  &  -4   &   3   \\\\ \\hline\n",
        "h^2f''(x)    &       &       &   -1  &    4  &  -5   &   2   \\\\ \\hline\n",
        "2h^3f'''(x)   &       &    3  &  -14  &   24  &  -18  &   5   \\\\ \\hline\n",
        "h^4f^{(4)}(x)&  -2   &   11  &  -24  &   26  &  -14  &   3   \\\\ \\hline\n",
        "\\end{array}$\n",
        "\n",
        "**Table 5.3b.** Coefficients of Backward Finite Difference Approximations of $\\mathcal{O}(h^2)$"
      ]
    },
    {
      "cell_type": "markdown",
      "metadata": {
        "id": "WtI6cIrlWhRD"
      },
      "source": [
        "Given $F(x) = \\sin(x)e^{-x}$, use step size $h=0.05$ to evaluate the first derivative at $x = 1$.\n",
        "\n",
        "Try it **by hand** for each differencing method:\n",
        "\n",
        "1.   First Forward Difference Method\n",
        "2.   First Backward Difference Method\n",
        "3.   Second Forward Difference Method\n",
        "4.   Second Backward Difference Method\n",
        "5.   First Central Difference Method\n",
        "\n",
        "Then in code, calculate them again and find the **relative error** compared to the analytical derivative.  \n",
        "\n",
        "Which methods produce the most accurate results?"
      ]
    },
    {
      "cell_type": "code",
      "execution_count": 1,
      "metadata": {
        "id": "Bx_ZMIuYXJKg"
      },
      "outputs": [],
      "source": [
        "# Starter code\n",
        "\n",
        "#Initial Function\n",
        "import numpy as np\n",
        "import math\n",
        "\n",
        "x = 1\n",
        "h = 0.05\n",
        "\n",
        "def f(x):\n",
        "  return np.sin(x)*np.exp(-x)\n",
        "\n",
        "# Also define the analytical derivative here\n",
        "fPrime_true = math.exp(-x)*(math.cos(x) - math.sin(x))"
      ]
    },
    {
      "cell_type": "code",
      "execution_count": 2,
      "metadata": {
        "id": "ukfvG5D5bwWg"
      },
      "outputs": [
        {
          "name": "stdout",
          "output_type": "stream",
          "text": [
            "True is -0.11079376530669924\n",
            "ffd is -0.12031489124008088\n",
            "Error is 0.08593557504815606\n"
          ]
        }
      ],
      "source": [
        "# First Forward Difference\n",
        "fPrime_ffd = (f(x+h) - f(x)) / h \n",
        "error_rel_ffd = abs((fPrime_ffd - fPrime_true) / fPrime_true)\n",
        "\n",
        "print(f\"True is {fPrime_true}\")\n",
        "print(f\"ffd is {fPrime_ffd}\")\n",
        "print(f\"Error is {error_rel_ffd}\")"
      ]
    },
    {
      "cell_type": "code",
      "execution_count": 3,
      "metadata": {
        "id": "NRt6X-n7bxNP"
      },
      "outputs": [
        {
          "name": "stdout",
          "output_type": "stream",
          "text": [
            "True is -0.11079376530669924\n",
            "fbd is -0.10042538325779837\n",
            "Error is 0.09358272119553944\n"
          ]
        }
      ],
      "source": [
        "# First Backward Difference\n",
        "\n",
        "fPrime_fbd = (f(x) - f(x-h)) / h \n",
        "error_rel_fbd = abs((fPrime_fbd - fPrime_true) / fPrime_true)\n",
        "\n",
        "print(f\"True is {fPrime_true}\")\n",
        "print(f\"fbd is {fPrime_fbd}\")\n",
        "print(f\"Error is {error_rel_fbd}\")"
      ]
    },
    {
      "cell_type": "code",
      "execution_count": 4,
      "metadata": {
        "id": "k9aARVBIbxq8"
      },
      "outputs": [],
      "source": [
        "# Second Forward Difference\n",
        "\n",
        "#oopsie I missed this one"
      ]
    },
    {
      "cell_type": "code",
      "execution_count": 5,
      "metadata": {
        "id": "-OJchNv9byGA"
      },
      "outputs": [
        {
          "name": "stdout",
          "output_type": "stream",
          "text": [
            "True is -0.11079376530669924\n",
            "sbd is -0.11167997191770862\n",
            "Error is 0.007998704697472695\n"
          ]
        }
      ],
      "source": [
        "# Second Backward Difference\n",
        "\n",
        "fPrime_sfd = (3*f(x) - 4*f(x-h) + f(x-2*h))/(2*h)\n",
        "error_rel_sfd = abs((fPrime_sfd - fPrime_true) / fPrime_true)\n",
        "\n",
        "print(f\"True is {fPrime_true}\")\n",
        "print(f\"sbd is {fPrime_sfd}\")\n",
        "print(f\"Error is {error_rel_sfd}\")"
      ]
    },
    {
      "cell_type": "code",
      "execution_count": 6,
      "metadata": {
        "id": "b0NkE6eBbylz"
      },
      "outputs": [
        {
          "name": "stdout",
          "output_type": "stream",
          "text": [
            "True is -0.11079376530669924\n",
            "cd is -0.11037013724893963\n",
            "Error is 0.0038235730736916915\n"
          ]
        }
      ],
      "source": [
        "# First Central Difference\n",
        "\n",
        "fPrime_cd = (f(x+h) - f(x-h))/(2*h)\n",
        "error_rel_cd = abs((fPrime_cd - fPrime_true) / fPrime_true)\n",
        "\n",
        "print(f\"True is {fPrime_true}\")\n",
        "print(f\"cd is {fPrime_cd}\")\n",
        "print(f\"Error is {error_rel_cd}\")"
      ]
    },
    {
      "cell_type": "markdown",
      "metadata": {
        "id": "z-8MAHAMqPVR"
      },
      "source": [
        "#### **2. Application: Car Braking**"
      ]
    },
    {
      "cell_type": "markdown",
      "metadata": {
        "id": "_1olUqhfHd-V"
      },
      "source": [
        "**Problem Setup:**\n",
        "\n",
        "An automobile tire manufacturer wants to measure the braking acceleration of different designs of tires, so they set up an experiment as follows:\n",
        "\n",
        "A driver drives an automobile down a road at a constant velocity. When the automobile crosses designated point, the test pilot hits the brakes and stops the car.\n",
        "\n",
        "An engineer sets up a laser range-finder to measure the distance the automobile has traveled down the road at different points in time, with the designated point corresponding to zero distance. Distance measurements are taken every $ 0.1 $ seconds beginning at $ t = 0 $, with $ t = 0 $ corresponding the the moment the brakes are first applied. The distance measurements are noisy (they contain random error) and the engineer plots them on the graph below."
      ]
    },
    {
      "cell_type": "code",
      "execution_count": 7,
      "metadata": {
        "colab": {
          "base_uri": "https://localhost:8080/",
          "height": 472
        },
        "id": "PsYnf-VrMnhb",
        "outputId": "9c1eaa20-7a0e-4455-ef44-fc65f25f2398"
      },
      "outputs": [
        {
          "data": {
            "image/png": "[encoded data removed]",
            "text/plain": [
              "<Figure size 640x480 with 1 Axes>"
            ]
          },
          "metadata": {},
          "output_type": "display_data"
        }
      ],
      "source": [
        "# PROVIDED CODE\n",
        "import numpy as np\n",
        "import matplotlib.pyplot as plt\n",
        "\n",
        "np.random.seed(222)\n",
        "a0_true = -7 # acceleration of the vehicle during braking, in m/s^2\n",
        "v0_true = 35 # velocity of the vehicle before braking, in m/s\n",
        "p0_true = np.random.normal(0,2) # downrange distance of the vehicle at the first moment of braking, in meters\n",
        "\n",
        "period = 0.1 # the period of the range measurements, in seconds\n",
        "numSteps = int((v0_true / -a0_true) / period) # the number of simulation steps\n",
        "\n",
        "# Create \"truth\" data\n",
        "t = np.zeros((numSteps+1)) # the points in time\n",
        "a_true = np.zeros((numSteps+1)) # the true acceleration of the vehicle at each point in time\n",
        "v_true = np.zeros((numSteps+1)) # the true velocity of the vehicle at each point in time\n",
        "p_true = np.zeros((numSteps+1)) # the true position of the vehicle at each point in time\n",
        "p_meas = np.zeros((numSteps+1)) # the measured position of the vehicle at each point in time\n",
        "for i in range(0,numSteps+1):\n",
        "  t[i] = period * i\n",
        "  a_true[i] = a0_true\n",
        "  v_true[i] = (a0_true * t[i]) + v0_true\n",
        "  p_true[i] = (t[i]**2 / 2 * a0_true) + (t[i] * v0_true) + p0_true\n",
        "  p_meas[i] = p_true[i] + np.random.normal(0,0.1)\n",
        "\n",
        "# Plot the position measurement data\n",
        "plt.figure(0)\n",
        "plt.plot(t,p_meas,'b*',linewidth=1, label = 'Measured Position')\n",
        "plt.xlabel('Time (s)')\n",
        "plt.ylabel('Position (m)')\n",
        "plt.title('Position Time History')\n",
        "plt.legend()\n",
        "plt.show()"
      ]
    },
    {
      "cell_type": "markdown",
      "metadata": {
        "id": "omEegsrJNAOp"
      },
      "source": [
        "**Part a:**  Initially we can see that our position data looks very smooth (i.e. the noise does not have a great impact).\n",
        "\n",
        "Knowing that velocity is the first derivative of position, calculate the velocity at each point in time using the second forward, first central, or second backwards differencing at each point, as appropriate. The measured position is stored in an array `p_meas`.\n",
        "\n",
        "Plot the true velocity (provided in the code above) against the finite difference estimate of the velocity versus time."
      ]
    },
    {
      "cell_type": "code",
      "execution_count": 8,
      "metadata": {
        "colab": {
          "base_uri": "https://localhost:8080/",
          "height": 472
        },
        "id": "l3NP7lE7cBpb",
        "outputId": "b08e485a-2397-48d9-c2bc-8b9a0a8f4b04"
      },
      "outputs": [
        {
          "ename": "IndexError",
          "evalue": "index 51 is out of bounds for axis 0 with size 51",
          "output_type": "error",
          "traceback": [
            "\u001b[1;31m---------------------------------------------------------------------------\u001b[0m",
            "\u001b[1;31mIndexError\u001b[0m                                Traceback (most recent call last)",
            "Cell \u001b[1;32mIn[8], line 8\u001b[0m\n\u001b[0;32m      6\u001b[0m \u001b[38;5;28;01mfor\u001b[39;00m i \u001b[38;5;129;01min\u001b[39;00m \u001b[38;5;28mrange\u001b[39m(\u001b[38;5;28mlen\u001b[39m(p_meas)):\n\u001b[0;32m      7\u001b[0m     \u001b[38;5;28;01mif\u001b[39;00m i \u001b[38;5;241m!=\u001b[39m \u001b[38;5;241m0\u001b[39m \u001b[38;5;129;01mor\u001b[39;00m \u001b[38;5;28mlen\u001b[39m(p_meas): \u001b[38;5;66;03m#central\u001b[39;00m\n\u001b[1;32m----> 8\u001b[0m         velocity[i] \u001b[38;5;241m=\u001b[39m ((\u001b[43mp_meas\u001b[49m\u001b[43m[\u001b[49m\u001b[43mi\u001b[49m\u001b[43m \u001b[49m\u001b[38;5;241;43m+\u001b[39;49m\u001b[43m \u001b[49m\u001b[38;5;241;43m1\u001b[39;49m\u001b[43m]\u001b[49m) \u001b[38;5;241m-\u001b[39m p_meas[i \u001b[38;5;241m-\u001b[39m \u001b[38;5;241m1\u001b[39m]) \u001b[38;5;241m/\u001b[39m (\u001b[38;5;241m2\u001b[39m\u001b[38;5;241m*\u001b[39mh)\n\u001b[0;32m      9\u001b[0m     \u001b[38;5;28;01melif\u001b[39;00m i \u001b[38;5;241m==\u001b[39m \u001b[38;5;241m0\u001b[39m: \u001b[38;5;66;03m#forward\u001b[39;00m\n\u001b[0;32m     10\u001b[0m         velocity[i] \u001b[38;5;241m=\u001b[39m (\u001b[38;5;241m-\u001b[39m\u001b[38;5;241m3\u001b[39m\u001b[38;5;241m*\u001b[39mp_meas[i] \u001b[38;5;241m+\u001b[39m \u001b[38;5;241m4\u001b[39m\u001b[38;5;241m*\u001b[39mp_meas[i \u001b[38;5;241m+\u001b[39m \u001b[38;5;241m1\u001b[39m] \u001b[38;5;241m-\u001b[39m p_meas[i\u001b[38;5;241m+\u001b[39m\u001b[38;5;241m2\u001b[39m]) \u001b[38;5;241m/\u001b[39m (\u001b[38;5;241m2\u001b[39m\u001b[38;5;241m*\u001b[39mh)\n",
            "\u001b[1;31mIndexError\u001b[0m: index 51 is out of bounds for axis 0 with size 51"
          ]
        }
      ],
      "source": [
        "# Starter code\n",
        "h = .1\n",
        "# Initialize an array to hold the velocity time history\n",
        "velocity = np.zeros((numSteps + 1, 1))\n",
        "# Calculate velocity by differencing the position, stored in an array \"p_meas\"\n",
        "for i in range(len(p_meas)):\n",
        "    if i != 0 or len(p_meas): #central\n",
        "        velocity[i] = ((p_meas[i + 1]) - p_meas[i - 1]) / (2*h)\n",
        "    elif i == 0: #forward\n",
        "        velocity[i] = (-3*p_meas[i] + 4*p_meas[i + 1] - p_meas[i+2]) / (2*h)\n",
        "    else: #backward\n",
        "        velocity[i] = (3*p_meas[i] - 4*p_meas[i + 1] + p_meas[i+2]) / (2*h)\n",
        "\n",
        "# Plot it against the true velocity\n",
        "plt.figure(1)\n",
        "plt.plot(t,v_true,'k',linewidth=3, label = 'True Velocity')\n",
        "\n",
        "# Put comparison here!\n",
        "plt.plot(t,velocity,'k',linewidth=3, label = 'Estimated Velocity')\n",
        "plt.xlabel('Time (s)')\n",
        "plt.ylabel('Velocity (m/s)')\n",
        "plt.title('Velocity Time History')\n",
        "plt.legend()\n",
        "\n",
        "plt.show()"
      ]
    },
    {
      "cell_type": "markdown",
      "metadata": {
        "id": "EFSkT5vAQvsJ"
      },
      "source": [
        "**Part b:**\n",
        "Looking at the graph above we can see that the slope of our approximation is positive at some points which implies a positive acceleration. This does not make sense for a decelerating car, so we are already seeing some of the noise from the measurments having an effect on our results.\n",
        "\n",
        "Knowing that acceleration is the derivative of velocity, calculate the acceleration at each point in time using the second forward, first central, or second backwards differencing at each point, as appropriate. Plot the true acceleration against the finte difference acceleration."
      ]
    },
    {
      "cell_type": "code",
      "execution_count": null,
      "metadata": {
        "colab": {
          "base_uri": "https://localhost:8080/",
          "height": 472
        },
        "id": "EOZvk2xDcpNq",
        "outputId": "7eb124de-cdac-456b-ab72-593b430b9de5"
      },
      "outputs": [],
      "source": [
        "# Starter code\n",
        "\n",
        "# Initialize an array to hold the acceleration time history\n",
        "\n",
        "# Calculate acceleration by differencing your velocity estimate\n",
        "\n",
        "# Plot it against the true acceleration\n",
        "plt.figure(2)\n",
        "plt.plot(t,a_true,'k',linewidth=3, label = 'True Acceleration')\n",
        "# Put comparison here!\n",
        "plt.xlabel('Time (s)')\n",
        "plt.ylabel('Acceleration (m/s^2)')\n",
        "plt.title('Acceleration Time History')\n",
        "plt.legend()\n",
        "plt.show()"
      ]
    },
    {
      "cell_type": "markdown",
      "metadata": {
        "id": "mqDeN1E9STjf"
      },
      "source": [
        "This data is very noisy!\n",
        "\n",
        "Let's try a different way to measure the acceleration of the car.\n",
        "\n",
        "You propose the acceleration $ a(t) $ of the vehicle during braking can be approximated as a constant. Integrating $ a(t) = a_{0} $ with respect to time gives the equation $ v(t) = a_{0}t + v_{0} $, which is an equation for the vehicle's velocity as a function of time under constant braking acceleration. Integrating again gives $ p(t) = \\frac{1}{2}a_{0}t^{2} + v_{0}t + p_{0} $, which is an equation for the vehicle's position as a function of time with $ a_{0} $ representing the constant braking acceleration, $ v_{0} $ representing the velocity when the brakes were first applied, and $ p_{0} $ representing the position of the vehicle when the brakes were first applied."
      ]
    },
    {
      "cell_type": "markdown",
      "metadata": {
        "id": "P2xk0dPjU-AF"
      },
      "source": [
        "**Part c:** Use a least-squares approximation to carry out a polynomial curve fit on the noisy position measurement data. The physics of the problem (assumption of constant braking acceleration) suggests that a second-order polynomial $ p(t) = \\frac{1}{2}a_{0}t^{2} + v_{0}t + p_{0} $ is the most appropriate . Solve for the coefficients $ a_{0} $, $ v_{0} $, and $p_{0} $ using least-squares. Print the coefficients and their true values."
      ]
    },
    {
      "cell_type": "code",
      "execution_count": null,
      "metadata": {
        "id": "FLymhcc1dNCc"
      },
      "outputs": [],
      "source": [
        "# Starter code\n",
        "\n",
        "# Calculate initial position, initial velocity, and constant acceleration by least squares\n",
        "\n",
        "# Print out the coefficients, as these are our estimated initial values\n"
      ]
    },
    {
      "cell_type": "markdown",
      "metadata": {
        "id": "FV-Xi5H1bVGL"
      },
      "source": [
        "**Part d:** Create three plots. On the first plot, plot the position measurements, the least-squares estimated position, and the true position. On the second plot, plot the differencing estimated velocity, the least-squares estimated velocity, and the true velocity. On the third plot, plot the differencing estimated acceleration, the least-squares estimated acceleration, and the true acceleration."
      ]
    },
    {
      "cell_type": "code",
      "execution_count": null,
      "metadata": {
        "colab": {
          "base_uri": "https://localhost:8080/",
          "height": 1000
        },
        "id": "U2scRDFkfrRM",
        "outputId": "655e88ea-47c0-4d23-d708-5f67c08379f9"
      },
      "outputs": [],
      "source": [
        "# Starter code\n",
        "\n",
        "# Simulate time histories using least-squares predicted values from Part c\n",
        "\n",
        "# Plot 3 plots to compare the methods for position, velocity, and acceleration\n",
        "# Position\n",
        "plt.figure(3)\n",
        "plt.plot(t,p_true,'k',linewidth=3, label = 'True Position')\n",
        "# Put comparisons here!\n",
        "plt.xlabel('Time (s)')\n",
        "plt.ylabel('Position (m)')\n",
        "plt.title('Position Time History')\n",
        "plt.legend()\n",
        "\n",
        "# Velocity\n",
        "plt.figure(4)\n",
        "plt.plot(t,v_true,'k',linewidth=3, label = 'True Velocity')\n",
        "# Put comparisons here!\n",
        "plt.xlabel('Time (s)')\n",
        "plt.ylabel('Velocity (m/s)')\n",
        "plt.title('Velocity Time History')\n",
        "plt.legend()\n",
        "\n",
        "# Acceleration\n",
        "plt.figure(5)\n",
        "plt.plot(t,a_true,'k',linewidth=3, label = 'True Acceleration')\n",
        "# Put comparisons here!\n",
        "plt.xlabel('Time (s)')\n",
        "plt.ylabel('Acceleration (m/s^2)')\n",
        "plt.title('Acceleration Time History')\n",
        "plt.legend()\n",
        "plt.show()"
      ]
    }
  ],
  "metadata": {
    "colab": {
      "provenance": []
    },
    "kernelspec": {
      "display_name": "Python 3 (ipykernel)",
      "language": "python",
      "name": "python3"
    },
    "language_info": {
      "codemirror_mode": {
        "name": "ipython",
        "version": 3
      },
      "file_extension": ".py",
      "mimetype": "text/x-python",
      "name": "python",
      "nbconvert_exporter": "python",
      "pygments_lexer": "ipython3",
      "version": "3.11.0"
    }
  },
  "nbformat": 4,
  "nbformat_minor": 0
}
