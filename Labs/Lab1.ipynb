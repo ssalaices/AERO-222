{
  "cells": [
    {
      "cell_type": "markdown",
      "metadata": {
        "id": "hApi5sHDd5Nq"
      },
      "source": [
        "### **Python review using adaptive incremental method for calculating roots of a function.**\n",
        "\n",
        "Topics\n",
        "\n",
        "*   Python basics\n",
        "*   Functions\n",
        "*   Formatted output\n",
        "*   Plotting\n"
      ]
    },
    {
      "cell_type": "markdown",
      "metadata": {
        "id": "QVSlybftd5Ns"
      },
      "source": [
        "#### **1. Functions**\n",
        "**Write** a function to evaluate $f(x) = -8 + 3x-6 \\sin(x)$ and **test** it for $x=2$."
      ]
    },
    {
      "cell_type": "code",
      "execution_count": 1,
      "metadata": {
        "id": "xvWHrXIEd5Ns"
      },
      "outputs": [
        {
          "name": "stdout",
          "output_type": "stream",
          "text": [
            "f(2) = -7.45578456095409\n"
          ]
        }
      ],
      "source": [
        "%reset -f\n",
        "\n",
        "import math\n",
        "import numpy as np\n",
        "\n",
        "def f(x):\n",
        "    return -8 + 3*x -6 * math.sin(x)\n",
        "\n",
        "print(f\"f(2) = {f(2)}\")  # uncomment this line to use this \"print\" statement"
      ]
    },
    {
      "cell_type": "markdown",
      "metadata": {
        "id": "LJJtUeh4d5Nt"
      },
      "source": [
        "#### **2. Loops**\n",
        "\n",
        "**Print** the value of $f(x)$ for numPoints equally spaced values of $x$ between $x_1$ and $x_2$, including the endpoints. This time we will designate $x_1$,$x_2$ as $0$ and $10$ respectively and set numPoints = $9$"
      ]
    },
    {
      "cell_type": "code",
      "execution_count": 2,
      "metadata": {
        "id": "PQM5Ev8bd5Nt"
      },
      "outputs": [
        {
          "name": "stdout",
          "output_type": "stream",
          "text": [
            "0, -8.00\n",
            "1.25, -9.94\n",
            "2.5, -4.09\n",
            "3.75, 6.68\n",
            "5.0, 12.75\n",
            "6.25, 10.95\n",
            "7.5, 8.87\n",
            "8.75, 14.50\n",
            "10.0, 25.26\n"
          ]
        }
      ],
      "source": [
        "x1, x2 = 0., 10.;   numPoints = 9\n",
        "delta = (x2-x1)/(numPoints-1)\n",
        "x = 0\n",
        "\n",
        "for i in range(numPoints):\n",
        "    print(f\"{x}, {f(x):.2f}\")\n",
        "    x += delta"
      ]
    },
    {
      "cell_type": "markdown",
      "metadata": {
        "id": "b0gClcHcnwJH"
      },
      "source": [
        "#### **3. Formatting Printouts**\n",
        "\n",
        "This printout is awkward to read. Let's print it out again, but use formatting that specifies the width of each column and the number of decimal places.\n",
        "Here is a good source of information on [print formatting](https://www.geeksforgeeks.org/python-output-formatting/). Print out $x$ truncated to 2 decimal places and $f(x)$ truncated to 5 decimal places."
      ]
    },
    {
      "cell_type": "code",
      "execution_count": 3,
      "metadata": {
        "id": "ass2xZd_nwJI"
      },
      "outputs": [
        {
          "name": "stdout",
          "output_type": "stream",
          "text": [
            "     x        f(x)   \n",
            "    0.00     -8.00000\n",
            "    1.25     -9.94391\n",
            "    2.50     -4.09083\n",
            "    3.75      6.67937\n",
            "    5.00     12.75355\n",
            "    6.25     10.94908\n",
            "    7.50      8.87200\n",
            "    8.75     14.50166\n",
            "   10.00     25.26413\n"
          ]
        }
      ],
      "source": [
        "print(\"{0:^8s} {1:^12s}\".format('   x', '   f(x)'))  # \"^\" causes center justification\n",
        "x = 0\n",
        "\n",
        "xPoints = []\n",
        "yPoints = []\n",
        "for i in range(numPoints):\n",
        "    xPoints.append(x)\n",
        "    yPoints.append(f(x))\n",
        "    #the line below spaces the input nicely\n",
        "    print(\"{0:8.2f} {1:12.5f}\".format(x, f(x)))\n",
        "    x += delta"
      ]
    },
    {
      "cell_type": "markdown",
      "metadata": {
        "id": "mN0oIpjTd5Nu"
      },
      "source": [
        "#### **4. Plotting**\n",
        "\n",
        "Plot the function $f(x)$ from $x_1$ to $x_2$"
      ]
    },
    {
      "cell_type": "code",
      "execution_count": 4,
      "metadata": {
        "id": "BOMHo4Kdd5Nu"
      },
      "outputs": [
        {
          "data": {
            "text/plain": [
              "[<matplotlib.lines.Line2D at 0x2c0611c5bd0>]"
            ]
          },
          "execution_count": 4,
          "metadata": {},
          "output_type": "execute_result"
        },
        {
          "data": {
            "image/png": "[encoded data removed]",
            "text/plain": [
              "<Figure size 640x480 with 1 Axes>"
            ]
          },
          "metadata": {},
          "output_type": "display_data"
        }
      ],
      "source": [
        "import matplotlib.pyplot as plt\n",
        "\n",
        "plt.plot(xPoints, yPoints)"
      ]
    },
    {
      "cell_type": "markdown",
      "metadata": {
        "id": "Qp34FjX5d5Nu"
      },
      "source": [
        "#### **5. Using linspace**\n",
        "\n",
        "Plot the function $f(x)$ from $0$ to $9$ again, but replace the for loop that generates the points with [np.linspace](https://numpy.org/doc/stable/reference/generated/numpy.linspace.html)\n",
        "\n",
        "This code uses a characteristic of python functions that is not available in all programming languages."
      ]
    },
    {
      "cell_type": "code",
      "execution_count": 5,
      "metadata": {
        "id": "29sNtnh2d5Nu"
      },
      "outputs": [
        {
          "data": {
            "text/plain": [
              "[<matplotlib.lines.Line2D at 0x2c06159ca50>]"
            ]
          },
          "execution_count": 5,
          "metadata": {},
          "output_type": "execute_result"
        },
        {
          "data": {
            "image/png": "[encoded data removed]",
            "text/plain": [
              "<Figure size 640x480 with 1 Axes>"
            ]
          },
          "metadata": {},
          "output_type": "display_data"
        }
      ],
      "source": [
        "xPoints = np.linspace(0, 9, 9)\n",
        "yPoints = []\n",
        "for x in xPoints:\n",
        "    yPoints.append(f(x))\n",
        "\n",
        "plt.plot(xPoints, yPoints)"
      ]
    },
    {
      "cell_type": "markdown",
      "metadata": {
        "id": "WmNDtVLgd5Nv"
      },
      "source": [
        "Add [axis labels](https://matplotlib.org/stable/api/_as_gen/matplotlib.pyplot.xlabel.html) and [title](https://matplotlib.org/stable/api/_as_gen/matplotlib.pyplot.title.html) to plot and increase numPoints to get a smoother plot"
      ]
    },
    {
      "cell_type": "code",
      "execution_count": 6,
      "metadata": {
        "id": "JfgNb48Vd5Nv"
      },
      "outputs": [
        {
          "data": {
            "image/png": "[encoded data removed]",
            "text/plain": [
              "<Figure size 640x480 with 1 Axes>"
            ]
          },
          "metadata": {},
          "output_type": "display_data"
        }
      ],
      "source": [
        "xPoints = np.linspace(0, 9, 100)\n",
        "yPoints = []\n",
        "for x in xPoints:\n",
        "    yPoints.append(f(x))\n",
        "\n",
        "plt.plot(xPoints, yPoints)\n",
        "plt.xlabel(\"x\")\n",
        "plt.ylabel(\"y\")\n",
        "plt.title(\"Plot of f(x)\")\n",
        "plt.show()"
      ]
    },
    {
      "cell_type": "markdown",
      "metadata": {
        "id": "0KDypn15d5Nv"
      },
      "source": [
        "#### **6. Adaptive Incremental Method**\n",
        "Now we want to find out where the function is zero using the adaptive incremental method.\n",
        "We will increment from $x_1$ to $x_2$ searching for when $f(x)$ switches sign. When the value of $f(x)$ switches sign, we know we have a root between the current and last values of $x$. You can use either a \"for\" or \"while\" loop."
      ]
    },
    {
      "cell_type": "markdown",
      "metadata": {
        "id": "qQ4X6vl5d5Nw"
      },
      "source": [
        "There is no \"sign\" function in the core python. There is in numpy, but let's write our own. This will be used in the subsequent code. This function should return $-1$ if $f(x)<0$, $0$ if $f(x)=0$, and $1$ if $f(x)>0$."
      ]
    },
    {
      "cell_type": "code",
      "execution_count": 7,
      "metadata": {
        "id": "MB0-pN3wd5Nw"
      },
      "outputs": [],
      "source": [
        "def sign(num):\n",
        "    return 1 if num > 0 else 0"
      ]
    },
    {
      "cell_type": "markdown",
      "metadata": {
        "id": "E5vxBgndd5Nw"
      },
      "source": [
        "Use an increment of $(x_2-x_1)/10$. When the sign changes, print out the last and current values of $x$ and declare there is a root between these two values."
      ]
    },
    {
      "cell_type": "code",
      "execution_count": 8,
      "metadata": {
        "id": "NcoNzR13d5Nw"
      },
      "outputs": [
        {
          "name": "stdout",
          "output_type": "stream",
          "text": [
            "There is a root between 2.0 and 3.0\n"
          ]
        }
      ],
      "source": [
        "delta = (x2-x1)/10\n",
        "x = x1\n",
        "\n",
        "while sign(f(x)) == sign(f(x1)):\n",
        "    x += delta\n",
        "\n",
        "#for example\n",
        "#x values are 1, 2, 3 with an increment of 1\n",
        "#y values are 10, 5, -1\n",
        "x2 = x #3\n",
        "x1 = x - delta #2\n",
        "print(f\"There is a root between {x1} and {x2}\")"
      ]
    },
    {
      "cell_type": "markdown",
      "metadata": {
        "id": "EYDTy1ned5Nx"
      },
      "source": [
        "Now the search is narrowed, restart the incrementing from this reduced range of $x$."
      ]
    },
    {
      "cell_type": "code",
      "execution_count": 9,
      "metadata": {
        "id": "6mQMY6Y6d5Nx"
      },
      "outputs": [
        {
          "name": "stdout",
          "output_type": "stream",
          "text": [
            "There is a root between 2.900000000000001 and 3.000000000000001\n"
          ]
        }
      ],
      "source": [
        "delta = (x2-x1)/10\n",
        "x = x1\n",
        "\n",
        "while sign(f(x)) == sign(f(x1)):\n",
        "    x += delta\n",
        "\n",
        "x2 = x\n",
        "x1 = x - delta\n",
        "print(f\"There is a root between {x1} and {x2}\")"
      ]
    },
    {
      "cell_type": "markdown",
      "metadata": {
        "id": "glBBlE_gd5Nx"
      },
      "source": [
        "Now it is time to automate the search. Start with a search range of $x_1$ to $x_2$ and start incrementing until the sign switches. Automatically reduce the range and resume searching. Continue doing this until $f(x)$ is less than $1.0E-6$.\n",
        "* Each time you start incrementing, print out a message that identifies the bracket for the search and the values of $f(x)$ at the ends of the bracket.\n",
        "* Store the history of brackets in a [text file](https://www.pythontutorial.net/python-basics/python-read-text-file/) called bracketHistory.txt.\n",
        "* If you are using Google Colab, opening a file for writing takes a little more effort than if you are using Jupyter or JupyterLab."
      ]
    },
    {
      "cell_type": "code",
      "execution_count": 10,
      "metadata": {
        "id": "3AOS9JO_d5Nx"
      },
      "outputs": [
        {
          "name": "stdout",
          "output_type": "stream",
          "text": [
            "[['Lab1.ipynb']]\n"
          ]
        }
      ],
      "source": [
        "import sys\n",
        "import os\n",
        "\n",
        "IDE = 'jupyterlab'\n",
        "# IDE = 'colab'\n",
        "\n",
        "if IDE == 'colab':\n",
        "    from google.colab import drive\n",
        "    #This is going to request permission\n",
        "    drive.mount('/content/gdrive', force_remount=True)\n",
        "\n",
        "x1 = 0\n",
        "x2 = 10\n",
        "\n",
        "\n",
        "def adaptInc(x1,x2,n):\n",
        "  pass  # delete this once you start writing the function\n",
        "  # define a function that takes in your starting endpoints and number of points\n",
        "  # return a bracket (list) of two new x values, between which is the root\n",
        "\n",
        "# THESE ARE CONDITIONALS TO SAVE YOUR TEXT FILE. YOU DO NOT NEED TO CHANGE THEM.\n",
        "if IDE == 'colab':\n",
        "    path = '/content/gdrive/MyDrive/Colab Notebooks'\n",
        "    print(os.listdir('/content/gdrive/MyDrive/Colab Notebooks'))\n",
        "\n",
        "if IDE == 'jupyterlab':\n",
        "    path = './'\n",
        "    tmp = os.listdir(path)\n",
        "    print(np.array([tmp]).T)\n",
        "\n",
        "file = open(path +'/bracketHistory.txt', 'w')\n",
        "\n",
        "# Create a loop that runs while the absolute value of the second endpoint is above 1E-6\n",
        "  # Within this loop, write each list of endpoints to the text file\n",
        "  # Also print the endpoints and the current function values at those endpoints\n",
        "  # Remember to redefine the endpoints in each loop\n",
        "\n",
        "file.close()\n"
      ]
    },
    {
      "cell_type": "markdown",
      "metadata": {
        "id": "4T_z2kaeLN3l"
      },
      "source": [
        "Now read back the file that you created in the previous section."
      ]
    },
    {
      "cell_type": "code",
      "execution_count": 11,
      "metadata": {
        "id": "CHeQORbXLbgM"
      },
      "outputs": [],
      "source": [
        "# See the \"text file\" link above to learn how to do this,\n",
        "# then implement it in this code block"
      ]
    },
    {
      "cell_type": "markdown",
      "metadata": {
        "id": "ZRPS6KUFd5Ny"
      },
      "source": [
        "Use what you have written to create a function that will search for roots using the adaptive incremental method. You will send this solver function the function for which you want the root, the bracket to start the search, and the tolerance (i.e. mab(abs(f(x))) allowed)"
      ]
    },
    {
      "cell_type": "code",
      "execution_count": 12,
      "metadata": {
        "id": "TCcCF6jcd5Ny"
      },
      "outputs": [
        {
          "name": "stdout",
          "output_type": "stream",
          "text": [
            "the root is at x = None\n",
            "the root of f(x) = x is at x = None\n"
          ]
        }
      ],
      "source": [
        "def adaptiveIncremental(f, bracket, tol):\n",
        "  pass\n",
        "\n",
        "root = adaptiveIncremental(f, [0,10], 1E-6)\n",
        "\n",
        "print('the root is at x =', root)\n",
        "\n",
        "# Let's try a new function and a new initial range (no need to change this)\n",
        "def f(x):\n",
        "  return x\n",
        "\n",
        "root = adaptiveIncremental(f, [-10,10], 1E-6)\n",
        "\n",
        "print('the root of f(x) = x is at x =', root)"
      ]
    },
    {
      "cell_type": "markdown",
      "metadata": {
        "id": "TVyPtnzDL_Yk"
      },
      "source": [
        "For more information on any of the python functionalities, explore these resorces.\n",
        "\n",
        "*   [Print Formatting](https://www.geeksforgeeks.org/python-output-formatting/)\n",
        "*   [Axes Labels](https://matplotlib.org/stable/api/_as_gen/matplotlib.pyplot.xlabel.html)\n",
        "*   [Plot Titles](https://matplotlib.org/stable/api/_as_gen/matplotlib.pyplot.title.html)\n",
        "*   [linspace](https://numpy.org/doc/stable/reference/generated/numpy.linspace.html)\n",
        "*   [Text files](https://www.pythontutorial.net/python-basics/python-read-text-file/)\n",
        "*   [Exploring Directories](https://colab.research.google.com/notebooks/io.ipynb) in colab (look at the section titled \"Mount Google Drive Locally\")\n",
        "\n",
        "\n"
      ]
    }
  ],
  "metadata": {
    "colab": {
      "provenance": []
    },
    "kernelspec": {
      "display_name": "Python 3 (ipykernel)",
      "language": "python",
      "name": "python3"
    },
    "language_info": {
      "codemirror_mode": {
        "name": "ipython",
        "version": 3
      },
      "file_extension": ".py",
      "mimetype": "text/x-python",
      "name": "python",
      "nbconvert_exporter": "python",
      "pygments_lexer": "ipython3",
      "version": "3.11.0"
    }
  },
  "nbformat": 4,
  "nbformat_minor": 0
}
