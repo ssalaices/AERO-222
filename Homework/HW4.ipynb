{
  "cells": [
    {
      "cell_type": "markdown",
      "metadata": {
        "id": "n2RyHlhTZvsv"
      },
      "source": [
        "**Homework: Direct Solvers**     \n",
        "\n",
        "This assignment includes work by hand and coding. Some problems are from the textbook.\n",
        "\n",
        "**You do not need to write your own solver for the textbook problems. You might wish to use a NumPy solver.**\n",
        "\n",
        "For some of these problems, you will need to create large arrays and/or time your functions. Here is code that shows how you can create large arrays quickly (the A times transpose(A) is to make sure I get a matrix that is not singular):\n",
        "\n",
        "```\n",
        "import numpy as np\n",
        "n = 500\n",
        "np.random.seed( 36 )\n",
        "A = np.random.random( (n,n)).round(3)\n",
        "A = A @ A.T\n",
        "b = np.random.random( n).round(3)\n",
        "```\n",
        "\n",
        "\n",
        "And here is an example of getting execution time:\n",
        "```\n",
        "import time\n",
        "t0 = time.time()\n",
        "b = gaussElimin(A,b)\n",
        "t1 = time.time()\n",
        "exec_time = t1-t0\n",
        "```\n",
        "\n",
        "Rather than printing large arrays to check manually, you might prefer using `np.allclose(a, b, rtol, atol)` ([documentation](https://numpy.org/doc/stable/reference/generated/numpy.allclose.html)), which takes in two arrays `a` and `b` and checks each element in `a` with its counterpart in `b` to see if they obey this equation: $|a_i-b_i| \\leq atol + rtol\\times|b_i|$.\n",
        "\n",
        "Be sure to Google these functions so you understand what they are doing."
      ]
    },
    {
      "cell_type": "markdown",
      "metadata": {
        "id": "T9mUn5vQzQVc"
      },
      "source": [
        "**Hand calculation for small arrays**\n",
        "\n",
        "**H1)** Gaussian elimination: p. 55, Problem 4\n",
        "\n",
        "**H2)** Cholesky decomposition: p. 56, Problem 11"
      ]
    },
    {
      "cell_type": "code",
      "execution_count": 38,
      "metadata": {
        "colab": {
          "base_uri": "https://localhost:8080/"
        },
        "id": "Sd_uNyWzFJCP",
        "outputId": "15ccfa50-2a53-4b38-d799-9984ea2211ad"
      },
      "outputs": [
        {
          "name": "stdout",
          "output_type": "stream",
          "text": [
            "[[ 0.6531]\n",
            " [-1.1429]\n",
            " [ 1.7347]]\n"
          ]
        }
      ],
      "source": [
        "# Provided code\n",
        "# H1    Reference solution\n",
        "import numpy as np\n",
        "\n",
        "A = np.array([[2,-3,-1],[3,2,-5],[2,4,-1]])\n",
        "b = np.array([[3],[-9],[-5]])\n",
        "\n",
        "sol = np.linalg.solve(A,b)\n",
        "print(sol)"
      ]
    },
    {
      "cell_type": "code",
      "execution_count": 39,
      "metadata": {
        "colab": {
          "base_uri": "https://localhost:8080/"
        },
        "id": "sIYb58EaJiwj",
        "outputId": "47df6fa9-b7ad-44bb-9d91-68bdaeea777a"
      },
      "outputs": [
        {
          "name": "stdout",
          "output_type": "stream",
          "text": [
            "L =\n",
            " [[1. 0. 0.]\n",
            " [1. 1. 0.]\n",
            " [1. 1. 1.]]\n",
            "y = \n",
            " [[1. ]\n",
            " [0.5]\n",
            " [1.5]]\n",
            "x = \n",
            " [[ 0.5]\n",
            " [-1. ]\n",
            " [ 1.5]]\n"
          ]
        }
      ],
      "source": [
        "# Provided code\n",
        "# H2   Reference solution\n",
        "A = np.array([[1,1,1],[1,2,2],[1,2,3]])\n",
        "b = np.array([[1],[3/2],[3]])\n",
        "\n",
        "L = np.linalg.cholesky(A)\n",
        "print('L =\\n', L)\n",
        "\n",
        "y = np.linalg.solve(L,b)\n",
        "print('y = \\n',y)\n",
        "\n",
        "x = np.linalg.solve(L.T,y)\n",
        "print('x = \\n', x)"
      ]
    },
    {
      "cell_type": "markdown",
      "metadata": {
        "id": "y5ZY72qcZvsx"
      },
      "source": [
        "**C1) Write a Python function that will invert a matrix of arbitrary dimensions.**\n",
        "\n",
        "*  Use the technique described in class that solves a series of problems using Gaussian elimination to obtain the matrix inverse.\n",
        "*  Demonstrate your function by inverting the provided 6x6 matrix.\n",
        "*  Show that $A$ times inverse($A$) is a diagonal matrix.\n",
        "\n",
        "Note: To be efficient, you could modify the Gaussian elimination function to handle multiple righthand sides, but that is not required for this assignment. You can use the code on p. 41 or a function in NumPy to solve the equations."
      ]
    },
    {
      "cell_type": "code",
      "execution_count": 40,
      "metadata": {
        "id": "w3_VR6SRnQGz"
      },
      "outputs": [],
      "source": [
        "# P5\n",
        "import numpy as np\n",
        "np.set_printoptions(precision=4) \n",
        "\n",
        "def gaussElimin_colon(a,b):\n",
        "    newA = a.copy()\n",
        "    n = len(b)\n",
        "    # Elimination Phase\n",
        "    for k in range(0,n-1):\n",
        "        for i in range(k+1,n):\n",
        "            if newA[i,k] != 0.0:\n",
        "                lam = newA[i,k] / newA[k,k]\n",
        "                newA[i,k+1:n] = newA[i,k+1:n] - lam * newA[k,k+1:n] #replace\n",
        "                b[i] = b[i] - lam*b[k]\n",
        "\n",
        "    # Back substitution\n",
        "    for k in range(n-1,-1,-1):\n",
        "        b[k] = (b[k] - np.dot(newA[k,k+1:n], b[k+1:n])) / newA[k,k]\n",
        "\n",
        "    return b\n",
        "\n",
        "def invertMatrix(A):\n",
        "    newA = A.copy()\n",
        "    inverted_matrix = A.copy()\n",
        "    identity_matrix = np.zeros_like(newA)\n",
        "    length = np.shape(identity_matrix)[0]\n",
        "\n",
        "    #creation of identity matrix\n",
        "    for i in range(length):\n",
        "       for j in range(length):\n",
        "          identity_matrix[i, i] = 1\n",
        "          \n",
        "    #performs the gaussian elimination with each column of the identity matrix\n",
        "    for i in range(length):\n",
        "        identity_column = identity_matrix[i, :]\n",
        "        row = A[:, i]\n",
        "        solutions = gaussElimin_colon(newA, identity_column) \n",
        "        inverted_matrix[i] = solutions\n",
        "\n",
        "    #easier to transpose after than to write in as a column\n",
        "    inverted_matrix = np.transpose(inverted_matrix)\n",
        "    \n",
        "    return inverted_matrix"
      ]
    },
    {
      "cell_type": "code",
      "execution_count": 41,
      "metadata": {
        "colab": {
          "base_uri": "https://localhost:8080/"
        },
        "id": "QJIgVyLQNQa9",
        "outputId": "945cfbe6-d4af-460b-cfbf-bbe64cf77891"
      },
      "outputs": [
        {
          "name": "stdout",
          "output_type": "stream",
          "text": [
            "A =\n",
            " [[7.29 6.02 9.52 1.43 8.07 3.63]\n",
            " [1.87 2.59 6.3  0.33 9.47 9.04]\n",
            " [5.5  1.97 2.32 0.02 2.26 3.75]\n",
            " [4.53 2.46 4.6  2.1  6.71 4.52]\n",
            " [5.93 3.27 2.24 2.16 1.72 0.23]\n",
            " [6.29 5.31 2.43 5.25 1.74 3.42]]\n",
            "Inverted = \n",
            "[[-0.0249 -0.1318  0.1854  0.1682 -0.0062 -0.0503]\n",
            " [-0.1674  0.6951 -0.3818 -0.9198  1.1525 -0.1029]\n",
            " [ 0.4171 -0.5909  0.3016  0.4837 -1.221   0.2312]\n",
            " [ 0.0788 -0.376  -0.0016  0.5391 -0.6463  0.2429]\n",
            " [-0.2393  0.3789 -0.3322 -0.1405  0.8611 -0.2555]\n",
            " [ 0.0102 -0.0326  0.2089  0.0191 -0.3565  0.1375]]\n",
            "Diagonal = \n",
            "[[ 1.0000e+00 -9.1583e-17  5.5730e-17 -2.9378e-17 -1.8629e-17  9.1652e-17]\n",
            " [-3.7038e-16  1.0000e+00 -1.8231e-16 -6.2264e-17 -3.3815e-16 -2.4383e-16]\n",
            " [ 5.1738e-16 -3.6429e-16  1.0000e+00  5.2042e-17 -6.3838e-16  7.9797e-16]\n",
            " [ 3.4217e-16 -2.2880e-16  6.8600e-16  1.0000e+00 -8.3521e-16  5.4422e-16]\n",
            " [-5.2150e-16  7.9023e-16 -1.1830e-15 -8.0518e-16  1.0000e+00 -3.3745e-16]\n",
            " [-6.7546e-16  3.0843e-17 -1.3781e-15 -8.5301e-16  3.4930e-15  1.0000e+00]]\n"
          ]
        }
      ],
      "source": [
        "# Provided matrix A to test your function\n",
        "n = 6; np.random.seed(36)\n",
        "A = 10*np.random.random((n,n)).round(3)\n",
        "print('A =\\n', A)\n",
        "\n",
        "print(f\"Inverted = \\n{invertMatrix(A)}\")\n",
        "diagonal_matrix = np.matmul(A, invertMatrix(A))\n",
        "print(f\"Diagonal = \\n{diagonal_matrix}\")"
      ]
    },
    {
      "cell_type": "markdown",
      "metadata": {
        "id": "DW4BHel3Zvsy"
      },
      "source": [
        "**Translating code from the textbook**\n",
        "\n",
        "In problems C2 and C3, you are encouraged to test and verify your code using small arrays before using it on the 500x500 array, which takes longer to process. Note that you are only changing a very small amount of code. Think it through clearly before starting to type.\n",
        "\n",
        "**C2)** Starting with the Gaussian elimination code on p. 41, replace the two lines in the code that use colon notation with appropriate loops. To save you time, the code in the textbook is provided below.\n",
        "\n",
        "Compare the execution times for the original code and your code on the provided 500x500 matrix."
      ]
    },
    {
      "cell_type": "code",
      "execution_count": 42,
      "metadata": {
        "id": "qZPhS84-OJoO"
      },
      "outputs": [],
      "source": [
        "# Provided code to create a 500x500 matrix\n",
        "n = 500; np.random.seed( 36 )\n",
        "A = np.random.random((n,n)).round(3); A = A @ A.T\n",
        "B = np.random.random(n).round(3)"
      ]
    },
    {
      "cell_type": "code",
      "execution_count": 43,
      "metadata": {
        "id": "SXtptjuQnOaD"
      },
      "outputs": [],
      "source": [
        "# C2 with colon notation (provided code)\n",
        "import numpy as np\n",
        "import time\n",
        "\n",
        "def gaussElimin_colon(a,b):\n",
        "    newA = a.copy()\n",
        "    n = len(b)\n",
        "    # Elimination Phase\n",
        "    for k in range(0,n-1):\n",
        "        for i in range(k+1,n):\n",
        "            if newA[i,k] != 0.0:\n",
        "                lam = newA[i,k] / newA[k,k]\n",
        "                newA[i,k+1:n] = newA[i,k+1:n] - lam * newA[k,k+1:n] #replace\n",
        "                b[i] = b[i] - lam*b[k]\n",
        "\n",
        "    # Back substitution\n",
        "    for k in range(n-1,-1,-1):\n",
        "        b[k] = (b[k] - np.dot(newA[k,k+1:n], b[k+1:n])) / newA[k,k]\n",
        "\n",
        "    return b"
      ]
    },
    {
      "cell_type": "code",
      "execution_count": 44,
      "metadata": {
        "id": "OBA3-l12nOaG"
      },
      "outputs": [],
      "source": [
        "#C2 with loops instead of colon notation\n",
        "\n",
        "def gaussElimin_loop(A,b):\n",
        "    newB = b.copy()\n",
        "    n = len(b)\n",
        "    # Elimination Phase\n",
        "    for k in range(0,n-1):\n",
        "        for i in range(k+1,n):\n",
        "            if A[i,k] != 0.0:\n",
        "                lam = A[i,k] / A[k,k]\n",
        "                newB[i] = b[i] - lam*b[k]\n",
        "\n",
        "                #for loop is just iterating through the same range\n",
        "                for j in range(k+1, n):\n",
        "                    A[i, j] = A[i, j] - lam * A[k, j]\n",
        "                \n",
        "    # Back substitution\n",
        "    for k in range(n-1, -1, -1):\n",
        "        product = 0\n",
        "        for j in range(k+1, n):\n",
        "            product += A[k,j] * b[j] #product is added along\n",
        "        newB[k] = (b[k] - product) / A[k,k] #inside k but outside of j\n",
        "\n",
        "    return b"
      ]
    },
    {
      "cell_type": "code",
      "execution_count": 45,
      "metadata": {
        "id": "1_PfDb_nCfPC"
      },
      "outputs": [
        {
          "name": "stdout",
          "output_type": "stream",
          "text": [
            "Colon Notation = \n",
            "[ 9.4332e+01 -1.4557e+02 -1.7096e+02  4.3383e+01 -2.1102e+02  1.1912e+02\n",
            " -2.5621e+01  2.1207e+01 -1.0139e+02 -9.5763e+01  3.7708e+01  1.8215e+02\n",
            " -1.3973e+01  6.5029e+01 -5.5878e+01 -4.0722e+01 -4.9750e+01 -1.7046e+02\n",
            "  1.0058e+02 -5.7529e+01 -9.5356e+01  7.5305e+01  1.0277e+02  5.9068e+01\n",
            "  3.8677e+01 -1.1381e+01 -2.0385e+01 -2.1685e+02  5.9696e+01 -1.1927e+02\n",
            "  6.5929e+01  1.8062e+02  5.0681e+00  4.2159e+01 -7.9096e+01  2.2269e+02\n",
            "  1.2775e+01 -3.8666e+01 -1.6478e+02  6.9079e+01 -9.6719e+00  8.5496e+01\n",
            "  2.1292e+02 -8.1119e+00 -2.6661e+02  2.0372e+02  1.8828e+01  5.7072e+01\n",
            "  2.2214e+01  3.3528e+01 -4.7019e+01  7.6305e+01 -1.0141e+02  5.9909e+01\n",
            "  6.9039e+01  1.0307e+02 -1.3866e+02 -3.6939e+01  1.3077e+01  1.3528e+02\n",
            " -4.4137e+01  6.6601e+01 -5.8944e+00 -6.7825e+01 -2.4800e+02  1.1709e+01\n",
            "  1.1358e+02  1.3696e+01 -3.0292e+01  1.2930e+01  2.9476e+02 -1.1404e+02\n",
            " -1.5592e+02  1.4909e+02  1.1923e+02  9.7377e+01  3.5713e+01  2.3693e+01\n",
            " -1.3216e+01  1.4132e+01  1.0525e+02  1.2375e+01  1.7618e+02  2.1126e+01\n",
            "  8.5850e+01  2.9444e+01  1.8019e+01 -2.4583e+02  4.9523e+01 -1.3651e+01\n",
            "  6.3217e-01  2.1034e+02 -1.5180e+02  3.3091e+01  1.2289e+01 -1.0742e+02\n",
            " -8.8794e+01  4.4146e+01  1.6266e+02 -1.6876e+02 -5.8232e+01  1.0461e+02\n",
            "  4.6933e+00  8.5858e+01 -3.1114e+01  2.2677e+02 -2.0471e+02 -6.1460e+01\n",
            " -8.3907e+01  3.3949e+00 -2.7354e+02 -1.1349e+01 -1.6727e+02 -5.0328e+00\n",
            " -1.4892e+02 -8.6791e+01 -1.3638e+02  1.0590e+02 -9.1885e+01 -2.9167e+01\n",
            " -2.4920e+02 -4.1080e+01 -4.8384e+01  1.4133e+02 -2.8962e+01 -1.1901e+02\n",
            "  1.2186e+01  1.7849e+01 -3.6853e+01 -3.6949e+01  1.2405e+02  1.5408e+02\n",
            "  4.9177e+01 -5.0442e+01 -6.4376e+01  3.4722e+01  1.1412e+02  2.9267e+02\n",
            "  1.3237e+01  1.3003e+01  3.2719e+01 -4.5149e+01 -1.3957e+02  2.2290e+02\n",
            " -2.0172e+01  1.0768e+02 -3.9260e+00 -5.4536e+01  1.1365e+01  1.4393e+02\n",
            " -2.3753e+01  2.6451e+01  1.0150e+02  9.1547e+01  5.9522e+01  1.0932e+02\n",
            " -1.2808e+02 -9.6111e+01  1.6497e+00  8.6385e+01 -1.3572e+02  6.8893e+01\n",
            "  3.5641e+01 -1.8073e+02  2.6249e+02 -6.2742e+01  4.9715e+01  2.9866e+02\n",
            " -6.5728e+01  1.7515e+02 -3.1417e+02  2.8699e+01  8.6381e+01 -8.6659e+01\n",
            "  1.0237e+02  2.2449e+01 -1.2412e+01 -5.2303e+01  1.2113e+02  1.2226e+02\n",
            "  7.9230e+01 -8.1442e+01 -1.5531e+02  1.9630e+01 -7.0886e+01 -9.4657e+01\n",
            " -1.1636e+02  1.1913e+02  3.0918e+01  1.0258e+02  4.7300e+01 -1.3591e+01\n",
            "  8.4425e+01  9.7416e+01 -1.8719e+02  1.3143e+02  3.6825e+01  5.2570e+01\n",
            " -1.6975e+02 -9.0905e+01 -1.2505e+02  5.5054e+01 -5.9731e+01 -1.9999e+02\n",
            "  7.1763e+01 -1.0285e+02  2.6668e+01 -2.0734e+01 -7.7438e+01 -2.1915e+02\n",
            " -2.4502e+01 -2.1704e+01 -1.3242e+02  2.3513e+02  1.4169e+01  6.2343e+01\n",
            " -2.3714e+01 -1.0551e+02 -4.5770e+00  1.2082e+02  1.2633e+02 -2.8354e+01\n",
            " -6.9997e+01  4.3147e+01  2.2464e+01 -5.5305e+01  1.2044e+02  1.9438e+02\n",
            "  7.1793e+01  2.6148e+01  2.0726e+02 -1.9561e+01  3.9889e+01  1.3356e+02\n",
            "  3.1998e+01  1.7388e+02  2.0814e+02  2.7916e+00 -9.2027e+01 -4.9976e+01\n",
            "  3.5252e+01 -9.1682e+01  3.8763e+00  1.9094e+02  4.7720e+01  2.6465e+02\n",
            " -3.4839e+02 -9.4678e+01  1.6105e+02 -2.2385e+02 -2.5381e+02  4.6467e+01\n",
            "  1.0781e+02  4.2858e+01  7.4725e+01 -7.4727e+01 -1.6310e+02  9.3885e+01\n",
            "  1.3236e+02 -6.7180e+01  1.3917e+02 -1.4586e+02 -3.2715e+01 -1.6809e+02\n",
            " -6.8181e+00  5.8418e+01  2.3065e+00 -5.0905e+01 -1.4119e+01  2.9019e+00\n",
            "  4.7806e-01 -1.7052e+02  2.8391e+01 -5.1299e+01  3.5239e+02  1.0033e+02\n",
            "  2.2319e+01  1.1856e+02 -3.3343e+01  1.2360e+02  1.0570e+02  6.0687e+01\n",
            " -3.2385e+02 -1.9221e+02 -1.6997e+02 -1.7660e+02 -1.9462e+01  1.1668e+02\n",
            " -2.3621e+02 -4.3121e+00  2.0049e+02  7.7590e+01 -9.6551e+01  8.0799e+01\n",
            "  1.0357e+02  9.8839e+01 -1.2503e+00  5.6728e+01  4.2862e+01  1.1431e+01\n",
            " -4.9094e+01 -1.3843e+02 -7.8972e+01  2.9118e+02 -3.9496e+01  9.1536e+01\n",
            " -2.3698e+01 -8.8511e+01 -2.3359e+02  1.1295e+01 -1.2242e+02  5.6816e+00\n",
            " -7.7965e+01  4.9450e+01 -4.0645e+01 -1.8394e+01  1.1475e+02 -1.7447e+02\n",
            " -3.9500e+00  5.8580e+01 -1.0376e+02  5.8016e+01  1.5842e+02  1.3902e+02\n",
            "  8.1055e+01 -5.3134e+01 -2.5968e+01  1.3529e+02  6.1423e+01 -1.9574e+02\n",
            "  1.2767e+02 -8.1471e+01 -1.3366e+02  4.7198e+01 -1.3129e+02 -8.5632e+01\n",
            " -1.3599e+02  2.7433e+01 -6.5474e+01 -4.0649e+01  2.3034e+01  5.9186e+01\n",
            " -6.4623e+00 -3.0816e+01  1.4468e+02 -1.2810e+02  2.3670e+02 -2.4858e+01\n",
            " -7.9627e+01 -1.6351e+02 -1.6780e+02 -7.5412e+01 -1.1508e+02 -8.1079e+01\n",
            "  1.0528e+02 -1.0757e+02 -2.8880e+01  2.2615e+02  1.2313e+02  3.4443e+01\n",
            " -8.2806e+01 -7.2577e+01  6.9049e+01 -1.2134e+02 -6.1415e+01  1.4837e+02\n",
            " -6.2970e+01  7.6130e+01  1.3461e+01  1.1609e+02 -9.8041e+01 -1.8581e+01\n",
            "  5.3095e+01  5.1742e+01  1.5627e+02 -1.6582e+01  8.5553e+01  1.4374e+02\n",
            " -1.7882e+01  1.4205e+01  2.7008e+00  9.6130e+01 -1.9773e+02 -9.2207e+01\n",
            "  1.0933e+02  1.1490e+02 -6.0330e+00 -4.2705e+01  5.4286e+01 -8.7072e+01\n",
            " -8.7500e+01 -2.5808e+01  2.8019e+01 -7.1572e+01 -1.1162e+02 -6.5459e+01\n",
            "  1.7283e+01  4.2106e+01 -1.6243e+02  1.7610e+02  5.8541e+01 -1.5180e+02\n",
            " -4.1960e+01  6.4751e+01  1.2918e+02  4.8959e+01 -1.8045e+02 -1.5158e+02\n",
            " -8.0042e+01  2.0039e+02 -2.1601e+01 -1.6641e+02 -2.6573e+01 -7.0664e+01\n",
            " -2.6388e+02 -9.2444e+01  2.1001e+02 -1.1000e+02 -1.9061e+02 -7.6271e+01\n",
            " -7.4282e+01 -1.3292e+02  1.8602e+02  1.8099e+01  2.9344e+01  2.0620e-03\n",
            "  9.0066e+01 -2.6742e+01  5.5502e+01  1.0500e+02  8.9343e+01  1.2138e+01\n",
            " -1.1084e+02  2.8343e+01  5.6707e+01  1.7483e+02  1.9635e+01  6.1281e+01\n",
            "  1.1552e+02 -1.5104e+02 -8.3966e+01  3.5225e+01 -9.9268e+01  5.9568e+01\n",
            " -5.4915e+01  3.2766e+01 -1.6656e+02  3.0543e+01 -3.5816e+02  1.5025e+02\n",
            "  1.0899e+02  5.9050e+00 -8.7306e+01  1.6643e+02 -1.0575e+02 -9.2310e+01\n",
            " -6.8749e+01 -5.3741e+01 -1.8152e+02 -2.0137e+01  2.4208e+01  1.4879e+02\n",
            " -1.5966e+02  6.2695e+01  3.3426e+01  2.0950e+02  1.1499e+01  7.3727e+01\n",
            "  3.5542e+01 -8.3524e+00 -5.5977e+01  8.1905e+01  8.9576e+01  1.1904e+02\n",
            " -1.2671e+02  6.3459e+01 -2.0730e+02  1.2239e+02  1.6410e+02  9.1861e+01\n",
            "  3.6788e+01  1.9070e+02 -8.1295e+01  3.5965e+01 -2.3728e+01  2.9698e+01\n",
            " -6.5895e+01 -1.0332e+02 -1.0176e+02 -1.0615e+02  2.1817e+01 -1.1754e+01\n",
            "  3.2265e+02  2.9075e+01  5.9332e+01 -7.5796e+00 -1.0818e+02 -6.2231e+01\n",
            " -5.4548e+00 -2.1463e+02]\n",
            "Colon Notation Time: 0.8209888935089111\n",
            "\n",
            "For Loop = \n",
            "[ 9.4332e+01 -1.4557e+02 -1.7096e+02  4.3383e+01 -2.1102e+02  1.1912e+02\n",
            " -2.5621e+01  2.1207e+01 -1.0139e+02 -9.5763e+01  3.7708e+01  1.8215e+02\n",
            " -1.3973e+01  6.5029e+01 -5.5878e+01 -4.0722e+01 -4.9750e+01 -1.7046e+02\n",
            "  1.0058e+02 -5.7529e+01 -9.5356e+01  7.5305e+01  1.0277e+02  5.9068e+01\n",
            "  3.8677e+01 -1.1381e+01 -2.0385e+01 -2.1685e+02  5.9696e+01 -1.1927e+02\n",
            "  6.5929e+01  1.8062e+02  5.0681e+00  4.2159e+01 -7.9096e+01  2.2269e+02\n",
            "  1.2775e+01 -3.8666e+01 -1.6478e+02  6.9079e+01 -9.6719e+00  8.5496e+01\n",
            "  2.1292e+02 -8.1119e+00 -2.6661e+02  2.0372e+02  1.8828e+01  5.7072e+01\n",
            "  2.2214e+01  3.3528e+01 -4.7019e+01  7.6305e+01 -1.0141e+02  5.9909e+01\n",
            "  6.9039e+01  1.0307e+02 -1.3866e+02 -3.6939e+01  1.3077e+01  1.3528e+02\n",
            " -4.4137e+01  6.6601e+01 -5.8944e+00 -6.7825e+01 -2.4800e+02  1.1709e+01\n",
            "  1.1358e+02  1.3696e+01 -3.0292e+01  1.2930e+01  2.9476e+02 -1.1404e+02\n",
            " -1.5592e+02  1.4909e+02  1.1923e+02  9.7377e+01  3.5713e+01  2.3693e+01\n",
            " -1.3216e+01  1.4132e+01  1.0525e+02  1.2375e+01  1.7618e+02  2.1126e+01\n",
            "  8.5850e+01  2.9444e+01  1.8019e+01 -2.4583e+02  4.9523e+01 -1.3651e+01\n",
            "  6.3217e-01  2.1034e+02 -1.5180e+02  3.3091e+01  1.2289e+01 -1.0742e+02\n",
            " -8.8794e+01  4.4146e+01  1.6266e+02 -1.6876e+02 -5.8232e+01  1.0461e+02\n",
            "  4.6933e+00  8.5858e+01 -3.1114e+01  2.2677e+02 -2.0471e+02 -6.1460e+01\n",
            " -8.3907e+01  3.3949e+00 -2.7354e+02 -1.1349e+01 -1.6727e+02 -5.0328e+00\n",
            " -1.4892e+02 -8.6791e+01 -1.3638e+02  1.0590e+02 -9.1885e+01 -2.9167e+01\n",
            " -2.4920e+02 -4.1080e+01 -4.8384e+01  1.4133e+02 -2.8962e+01 -1.1901e+02\n",
            "  1.2186e+01  1.7849e+01 -3.6853e+01 -3.6949e+01  1.2405e+02  1.5408e+02\n",
            "  4.9177e+01 -5.0442e+01 -6.4376e+01  3.4722e+01  1.1412e+02  2.9267e+02\n",
            "  1.3237e+01  1.3003e+01  3.2719e+01 -4.5149e+01 -1.3957e+02  2.2290e+02\n",
            " -2.0172e+01  1.0768e+02 -3.9260e+00 -5.4536e+01  1.1365e+01  1.4393e+02\n",
            " -2.3753e+01  2.6451e+01  1.0150e+02  9.1547e+01  5.9522e+01  1.0932e+02\n",
            " -1.2808e+02 -9.6111e+01  1.6497e+00  8.6385e+01 -1.3572e+02  6.8893e+01\n",
            "  3.5641e+01 -1.8073e+02  2.6249e+02 -6.2742e+01  4.9715e+01  2.9866e+02\n",
            " -6.5728e+01  1.7515e+02 -3.1417e+02  2.8699e+01  8.6381e+01 -8.6659e+01\n",
            "  1.0237e+02  2.2449e+01 -1.2412e+01 -5.2303e+01  1.2113e+02  1.2226e+02\n",
            "  7.9230e+01 -8.1442e+01 -1.5531e+02  1.9630e+01 -7.0886e+01 -9.4657e+01\n",
            " -1.1636e+02  1.1913e+02  3.0918e+01  1.0258e+02  4.7300e+01 -1.3591e+01\n",
            "  8.4425e+01  9.7416e+01 -1.8719e+02  1.3143e+02  3.6825e+01  5.2570e+01\n",
            " -1.6975e+02 -9.0905e+01 -1.2505e+02  5.5054e+01 -5.9731e+01 -1.9999e+02\n",
            "  7.1763e+01 -1.0285e+02  2.6668e+01 -2.0734e+01 -7.7438e+01 -2.1915e+02\n",
            " -2.4502e+01 -2.1704e+01 -1.3242e+02  2.3513e+02  1.4169e+01  6.2343e+01\n",
            " -2.3714e+01 -1.0551e+02 -4.5770e+00  1.2082e+02  1.2633e+02 -2.8354e+01\n",
            " -6.9997e+01  4.3147e+01  2.2464e+01 -5.5305e+01  1.2044e+02  1.9438e+02\n",
            "  7.1793e+01  2.6148e+01  2.0726e+02 -1.9561e+01  3.9889e+01  1.3356e+02\n",
            "  3.1998e+01  1.7388e+02  2.0814e+02  2.7916e+00 -9.2027e+01 -4.9976e+01\n",
            "  3.5252e+01 -9.1682e+01  3.8763e+00  1.9094e+02  4.7720e+01  2.6465e+02\n",
            " -3.4839e+02 -9.4678e+01  1.6105e+02 -2.2385e+02 -2.5381e+02  4.6467e+01\n",
            "  1.0781e+02  4.2858e+01  7.4725e+01 -7.4727e+01 -1.6310e+02  9.3885e+01\n",
            "  1.3236e+02 -6.7180e+01  1.3917e+02 -1.4586e+02 -3.2715e+01 -1.6809e+02\n",
            " -6.8181e+00  5.8418e+01  2.3065e+00 -5.0905e+01 -1.4119e+01  2.9019e+00\n",
            "  4.7806e-01 -1.7052e+02  2.8391e+01 -5.1299e+01  3.5239e+02  1.0033e+02\n",
            "  2.2319e+01  1.1856e+02 -3.3343e+01  1.2360e+02  1.0570e+02  6.0687e+01\n",
            " -3.2385e+02 -1.9221e+02 -1.6997e+02 -1.7660e+02 -1.9462e+01  1.1668e+02\n",
            " -2.3621e+02 -4.3121e+00  2.0049e+02  7.7590e+01 -9.6551e+01  8.0799e+01\n",
            "  1.0357e+02  9.8839e+01 -1.2503e+00  5.6728e+01  4.2862e+01  1.1431e+01\n",
            " -4.9094e+01 -1.3843e+02 -7.8972e+01  2.9118e+02 -3.9496e+01  9.1536e+01\n",
            " -2.3698e+01 -8.8511e+01 -2.3359e+02  1.1295e+01 -1.2242e+02  5.6816e+00\n",
            " -7.7965e+01  4.9450e+01 -4.0645e+01 -1.8394e+01  1.1475e+02 -1.7447e+02\n",
            " -3.9500e+00  5.8580e+01 -1.0376e+02  5.8016e+01  1.5842e+02  1.3902e+02\n",
            "  8.1055e+01 -5.3134e+01 -2.5968e+01  1.3529e+02  6.1423e+01 -1.9574e+02\n",
            "  1.2767e+02 -8.1471e+01 -1.3366e+02  4.7198e+01 -1.3129e+02 -8.5632e+01\n",
            " -1.3599e+02  2.7433e+01 -6.5474e+01 -4.0649e+01  2.3034e+01  5.9186e+01\n",
            " -6.4623e+00 -3.0816e+01  1.4468e+02 -1.2810e+02  2.3670e+02 -2.4858e+01\n",
            " -7.9627e+01 -1.6351e+02 -1.6780e+02 -7.5412e+01 -1.1508e+02 -8.1079e+01\n",
            "  1.0528e+02 -1.0757e+02 -2.8880e+01  2.2615e+02  1.2313e+02  3.4443e+01\n",
            " -8.2806e+01 -7.2577e+01  6.9049e+01 -1.2134e+02 -6.1415e+01  1.4837e+02\n",
            " -6.2970e+01  7.6130e+01  1.3461e+01  1.1609e+02 -9.8041e+01 -1.8581e+01\n",
            "  5.3095e+01  5.1742e+01  1.5627e+02 -1.6582e+01  8.5553e+01  1.4374e+02\n",
            " -1.7882e+01  1.4205e+01  2.7008e+00  9.6130e+01 -1.9773e+02 -9.2207e+01\n",
            "  1.0933e+02  1.1490e+02 -6.0330e+00 -4.2705e+01  5.4286e+01 -8.7072e+01\n",
            " -8.7500e+01 -2.5808e+01  2.8019e+01 -7.1572e+01 -1.1162e+02 -6.5459e+01\n",
            "  1.7283e+01  4.2106e+01 -1.6243e+02  1.7610e+02  5.8541e+01 -1.5180e+02\n",
            " -4.1960e+01  6.4751e+01  1.2918e+02  4.8959e+01 -1.8045e+02 -1.5158e+02\n",
            " -8.0042e+01  2.0039e+02 -2.1601e+01 -1.6641e+02 -2.6573e+01 -7.0664e+01\n",
            " -2.6388e+02 -9.2444e+01  2.1001e+02 -1.1000e+02 -1.9061e+02 -7.6271e+01\n",
            " -7.4282e+01 -1.3292e+02  1.8602e+02  1.8099e+01  2.9344e+01  2.0620e-03\n",
            "  9.0066e+01 -2.6742e+01  5.5502e+01  1.0500e+02  8.9343e+01  1.2138e+01\n",
            " -1.1084e+02  2.8343e+01  5.6707e+01  1.7483e+02  1.9635e+01  6.1281e+01\n",
            "  1.1552e+02 -1.5104e+02 -8.3966e+01  3.5225e+01 -9.9268e+01  5.9568e+01\n",
            " -5.4915e+01  3.2766e+01 -1.6656e+02  3.0543e+01 -3.5816e+02  1.5025e+02\n",
            "  1.0899e+02  5.9050e+00 -8.7306e+01  1.6643e+02 -1.0575e+02 -9.2310e+01\n",
            " -6.8749e+01 -5.3741e+01 -1.8152e+02 -2.0137e+01  2.4208e+01  1.4879e+02\n",
            " -1.5966e+02  6.2695e+01  3.3426e+01  2.0950e+02  1.1499e+01  7.3727e+01\n",
            "  3.5542e+01 -8.3524e+00 -5.5977e+01  8.1905e+01  8.9576e+01  1.1904e+02\n",
            " -1.2671e+02  6.3459e+01 -2.0730e+02  1.2239e+02  1.6410e+02  9.1861e+01\n",
            "  3.6788e+01  1.9070e+02 -8.1295e+01  3.5965e+01 -2.3728e+01  2.9698e+01\n",
            " -6.5895e+01 -1.0332e+02 -1.0176e+02 -1.0615e+02  2.1817e+01 -1.1754e+01\n",
            "  3.2265e+02  2.9075e+01  5.9332e+01 -7.5796e+00 -1.0818e+02 -6.2231e+01\n",
            " -5.4548e+00 -2.1463e+02]\n",
            "For Loop Time: 24.11995768547058\n",
            "Are they the same? \n",
            "True\n",
            "It is signficantly slower to perform for loops.\n"
          ]
        }
      ],
      "source": [
        "# Time both methods\n",
        "import time\n",
        "\n",
        "#smaller array to test with!!!\n",
        "# A = np.array([[1,1,1],[1,2,2],[1,2,3]])\n",
        "# B = np.array([[1],[3/2],[3]])\n",
        "\n",
        "t0 = time.time()\n",
        "b1 = gaussElimin_colon(A, B)\n",
        "print(f\"Colon Notation = \\n{b1}\")\n",
        "t1 = time.time()\n",
        "exec_time = t1-t0\n",
        "print(f\"Colon Notation Time: {exec_time}\\n\")\n",
        "\n",
        "t2 = time.time()\n",
        "b2 = gaussElimin_loop(A,B)\n",
        "print(f\"For Loop = \\n{b2}\")\n",
        "t3 = time.time()\n",
        "exec_time_2 = t3-t2\n",
        "\n",
        "print(f\"For Loop Time: {exec_time_2}\")\n",
        "\n",
        "print(\"Are they the same? \")\n",
        "print(True if b1.all() == b2.all() else False) #np.allclose was giving me trouble\n",
        "\n",
        "print(f\"It is signficantly slower to perform for loops.\")"
      ]
    },
    {
      "cell_type": "markdown",
      "metadata": {
        "id": "Cx3ZOAZIzQVl"
      },
      "source": [
        "**C3)** Starting with the Cholesky decomposition code on p. 50, replace the three lines in the code that use colon notation with appropriate loops. To save you time, the code in the textbook is provided below.\n",
        "\n",
        "Compare the execution times for the original code and your code on the provided 500x500 matrix."
      ]
    },
    {
      "cell_type": "code",
      "execution_count": 46,
      "metadata": {
        "id": "jBe-b7jiOR63"
      },
      "outputs": [],
      "source": [
        "# Provided code to create a 500x500 matrix\n",
        "np.random.seed(123)\n",
        "N = 500\n",
        "A = np.random.rand(N,N) * 6\n",
        "A = np.trunc(A)\n",
        "A = A.T @ A"
      ]
    },
    {
      "cell_type": "code",
      "execution_count": 47,
      "metadata": {
        "id": "XkcgspvhztIT"
      },
      "outputs": [],
      "source": [
        "# C3 with colon notation (provided code)\n",
        "import math\n",
        "\n",
        "def choleski_colon(a):\n",
        "    n = len(a)\n",
        "    for k in range(n):\n",
        "        try:\n",
        "            a[k,k] = math.sqrt(a[k,k] - np.dot(a[k,0:k], a[k,0:k])) #replace this one\n",
        "            \n",
        "        except ValueError:\n",
        "            print('Error: Matrix is not positive definite')\n",
        "            return None\n",
        "        \n",
        "        for i in range(k+1,n):\n",
        "            a[i,k] = (a[i,k] - np.dot(a[i,0:k],a[k,0:k]))/a[k,k] #replace this one\n",
        "\n",
        "    for k in range(1,n): a[0:k,k] = 0.0 #replace this one\n",
        "    \n",
        "    return a"
      ]
    },
    {
      "cell_type": "code",
      "execution_count": 48,
      "metadata": {
        "id": "A8lchYUDtSPD"
      },
      "outputs": [],
      "source": [
        "#C3 with loops instead of colon notation\n",
        "\n",
        "def choleski_loop(a):\n",
        "    n = len(a)\n",
        "    for k in range(n):\n",
        "        try:\n",
        "            product = 0 #again, product outside\n",
        "            for j in range(0, k):\n",
        "                product += a[k,j] * a[k,j]\n",
        "            a[k,k] = math.sqrt(a[k,k] - product) #one replacement\n",
        "            \n",
        "        except ValueError:\n",
        "            print('Error: Matrix is not positive definite')\n",
        "            # return None\n",
        "        \n",
        "        for i in range(k+1,n):\n",
        "            product = 0\n",
        "            for j in range(0, k):\n",
        "                product += a[i,j] * a[k,j]\n",
        "            a[i,k] = (a[i,k] - product) / a[k,k] #same deal here\n",
        "\n",
        "    for k in range(1, n): \n",
        "        for j in range(0, k):\n",
        "            a[j,k] = 0.0 #just iterate through the same range\n",
        "\n",
        "    return a"
      ]
    },
    {
      "cell_type": "code",
      "execution_count": 53,
      "metadata": {
        "id": "vkMlEVRpnPWi"
      },
      "outputs": [
        {
          "name": "stdout",
          "output_type": "stream",
          "text": [
            "choleski_colon time: 0.3883368968963623\n",
            "\n",
            "choleski_colon = \n",
            "[[12.5442  0.      0.     ...  0.      0.      0.    ]\n",
            " [ 9.7871  8.1569  0.     ...  0.      0.      0.    ]\n",
            " [ 9.7078  4.0441  7.5119 ...  0.      0.      0.    ]\n",
            " ...\n",
            " [ 9.9475  4.0644  2.3966 ...  0.2792  0.      0.    ]\n",
            " [ 9.5688  3.7089  2.6244 ... -0.0284  0.2088  0.    ]\n",
            " [ 9.2548  3.1325  1.9205 ... -0.0274  0.0271  0.1402]]\n",
            "choleski_loop time: 11.364770412445068\n",
            "\n",
            "choleski_loop = \n",
            "[[12.5442  0.      0.     ...  0.      0.      0.    ]\n",
            " [ 9.7871  8.1569  0.     ...  0.      0.      0.    ]\n",
            " [ 9.7078  4.0441  7.5119 ...  0.      0.      0.    ]\n",
            " ...\n",
            " [ 9.9475  4.0644  2.3966 ...  0.2792  0.      0.    ]\n",
            " [ 9.5688  3.7089  2.6244 ... -0.0284  0.2088  0.    ]\n",
            " [ 9.2548  3.1325  1.9205 ... -0.0274  0.0271  0.1402]]\n",
            "Are they the same? \n",
            "True\n"
          ]
        }
      ],
      "source": [
        "# Time both methods\n",
        "\n",
        "n = 500; np.random.seed( 36 )\n",
        "A = np.random.random((n,n)).round(3); A = A @ A.T\n",
        "B = np.random.random(n).round(3)\n",
        "\n",
        "t0 = time.time()\n",
        "b1 = choleski_colon(A.copy()) #have to copy in the function call\n",
        "t1 = time.time()\n",
        "exec_time = t1-t0\n",
        "\n",
        "print(f\"choleski_colon time: {exec_time}\\n\")\n",
        "print(f\"choleski_colon = \\n{b1}\")\n",
        "\n",
        "t2 = time.time()\n",
        "b2 = choleski_loop(A.copy())\n",
        "t3 = time.time()\n",
        "exec_time_2 = t3-t2\n",
        "\n",
        "print(f\"choleski_loop time: {exec_time_2}\\n\")\n",
        "print(f\"choleski_loop = \\n{b2}\")\n",
        "\n",
        "print(\"Are they the same? \")\n",
        "print(True if b1.all() == b2.all() else False)\n",
        "\n",
        "print(f\"It is signficantly slower to perform for loops.\")"
      ]
    },
    {
      "cell_type": "markdown",
      "metadata": {
        "id": "uyoR8jjVzQVo"
      },
      "source": [
        "**p. 57, Problem 19 (Fourth-degree polynomial)**\n",
        "\n",
        "In addition to what the problem requires, **plot the data points and the curve fit.** You are also encouraged to check your answer by seeing if the polynomial you find actually has zero curvature at the specified points."
      ]
    },
    {
      "cell_type": "code",
      "execution_count": 55,
      "metadata": {
        "id": "Sd0p4KIXnRGZ"
      },
      "outputs": [
        {
          "name": "stdout",
          "output_type": "stream",
          "text": [
            "[1, 0, 0, 0, 0]\n",
            "[1.0, 0.75, 0.5625, 0.421875, 0.31640625]\n",
            "[1, 1, 1, 1, 1]\n",
            "[0, 0, 2, 0, 0]\n",
            "[12, 6, 2, 0, 0]\n"
          ]
        },
        {
          "data": {
            "text/plain": [
              "[<matplotlib.lines.Line2D at 0x28229184490>]"
            ]
          },
          "execution_count": 55,
          "metadata": {},
          "output_type": "execute_result"
        },
        {
          "data": {
            "image/png": "[encoded data removed]",
            "text/plain": [
              "<Figure size 640x480 with 1 Axes>"
            ]
          },
          "metadata": {},
          "output_type": "display_data"
        }
      ],
      "source": [
        "# Code here\n",
        "from matplotlib import pyplot as plt\n",
        "\n",
        "def gaussElimin(a,b):\n",
        "    n = len(b)\n",
        "    # Elimination Phase\n",
        "    for k in range(0,n-1):\n",
        "        for i in range(k+1,n):\n",
        "            if a[i,k] != 0.0:\n",
        "                lam = a[i,k]/a[k,k]\n",
        "                a[i,k+1:n] = a[i,k+1:n] - lam*a[k,k+1:n]\n",
        "                b[i] = b[i] - lam*b[k]\n",
        "    # Back substitution\n",
        "    for k in range(n-1,-1,-1):\n",
        "        b[k] = (b[k] - np.dot(a[k,k+1:n],b[k+1:n]))/a[k,k]\n",
        "    return b\n",
        "\n",
        "#I used this to help me put vales in the matrix\n",
        "def f(x):\n",
        "    row = [x**i for i in range(5)]\n",
        "    print(row)\n",
        "\n",
        "def fdp(x):\n",
        "    row = [12*x**2, 6*x, 2, 0, 0] \n",
        "    print(row)   \n",
        "\n",
        "#the value  after the coefficient in the polynomial for each point\n",
        "f(0)\n",
        "f(.75)\n",
        "f(1)\n",
        "\n",
        "#when curvature is 0, second derivate is 0, so same\n",
        "#thing as above but now it's got coefficients in front \n",
        "fdp(0)\n",
        "fdp(1)\n",
        "\n",
        "x_points = [0, .75, 1]\n",
        "y_points = [1, -.25, 1]\n",
        "\n",
        "A = np.array([[1, 0, 0, 0, 0],\n",
        "              [1, .75, .5625, .421875, .31640625],\n",
        "              [1, 1, 1, 1, 1],\n",
        "              [0, 0, 2, 0, 0],\n",
        "              [0, 0, 2, 6, 12]], dtype = float)\n",
        "\n",
        "B = np.array([[1],[-.25],[1],[1],[1]], dtype = float)\n",
        "\n",
        "solutions = gaussElimin(A.copy(), B.copy())\n",
        "\n",
        "def f1(x):\n",
        "    return solutions[4, 0]*x**4 + solutions[3, 0]*x**3 + solutions[2, 0]*x**2 + solutions[1, 0]*x**1 + solutions[0, 0] \n",
        "\n",
        "xvals = np.linspace(-1, 2, 100)\n",
        "yvals = [f1(x) for x in xvals]\n",
        "plt.grid()\n",
        "\n",
        "plt.plot(xvals, yvals)\n",
        "plt.plot(x_points, y_points, 'ro')\n"
      ]
    },
    {
      "cell_type": "markdown",
      "metadata": {
        "id": "vrlTSj9hzQVq"
      },
      "source": [
        "**p. 79, Problem 12 (Spring-mass system)**\n",
        "\n",
        "Use $k=1$ and $W=1$ in your calculations."
      ]
    },
    {
      "cell_type": "code",
      "execution_count": 51,
      "metadata": {
        "id": "2sedlXTrJsSd"
      },
      "outputs": [
        {
          "name": "stdout",
          "output_type": "stream",
          "text": [
            "Displacement x1: [1.6667]\n",
            "Displacement x2: [2.6667]\n",
            "Displacement x3: [2.6667]\n"
          ]
        }
      ],
      "source": [
        "# Code here\n",
        "\n",
        "def SpringSystem(k, W):\n",
        "    k1 = k3 = k4 = 1 * k\n",
        "    k2 = k5 = 2 * k\n",
        "\n",
        "    W1 = W3 = 2 * W\n",
        "    W2 = 1 * W\n",
        "\n",
        "    A = np.array([\n",
        "        [(k1 + k2 + k3 + k5), -k3, -k5], \n",
        "        [-k3, (k3 + k4), -k4], \n",
        "        [-k5, -k4, (k4 + k5)]], dtype = float)\n",
        "    \n",
        "    B = np.array([[W1], [W2], [W3]], dtype = float)\n",
        "\n",
        "    solutions = gaussElimin_colon(A.copy(), B.copy())\n",
        "    for i in range(len(solutions)):\n",
        "        print(f\"Displacement x{i + 1}: {solutions[i]}\")\n",
        "\n",
        "SpringSystem(1, 1)"
      ]
    },
    {
      "cell_type": "markdown",
      "metadata": {
        "id": "9hFAI62KzQVs"
      },
      "source": [
        "**p. 81, Problem 16 (Truss)**\n",
        "\n",
        "Note that NumPy's trigonometric functions use radians, not degrees."
      ]
    },
    {
      "cell_type": "code",
      "execution_count": 52,
      "metadata": {
        "id": "Dl-fhrpsPhrm"
      },
      "outputs": [
        {
          "name": "stdout",
          "output_type": "stream",
          "text": [
            "Force x1: [1.0403]\n",
            "Force x2: [-0.6261]\n",
            "Force x3: [0.6261]\n",
            "Force x4: [-0.7536]\n",
            "Force x5: [0.5]\n"
          ]
        }
      ],
      "source": [
        "# Code here\n",
        "from numpy import cos, sin, pi\n",
        "\n",
        "def Truss(degrees):\n",
        "    radians = degrees * (pi / 180)\n",
        "    c = cos(radians)\n",
        "    s = sin(radians)\n",
        "\n",
        "    A = np.array([\n",
        "        [c, 1, 0, 0, 0], \n",
        "        [0, s, 0, 0, 1],\n",
        "        [0, 0, 2*s, 0, 0],\n",
        "        [0, -c, c, 1, 0],\n",
        "        [0, s, s, 0, 0]], dtype = float)\n",
        "\n",
        "    B = np.array([[0],[0],[1],[0],[0]], dtype = float)\n",
        "\n",
        "    solutions = gaussElimin_colon(A.copy(), B.copy())\n",
        "\n",
        "    for i in range(len(solutions)):\n",
        "        print(f\"Force x{i + 1}: {solutions[i]}\")\n",
        "\n",
        "Truss(53)\n"
      ]
    }
  ],
  "metadata": {
    "colab": {
      "provenance": []
    },
    "kernelspec": {
      "display_name": "Python 3 (ipykernel)",
      "language": "python",
      "name": "python3"
    },
    "language_info": {
      "codemirror_mode": {
        "name": "ipython",
        "version": 3
      },
      "file_extension": ".py",
      "mimetype": "text/x-python",
      "name": "python",
      "nbconvert_exporter": "python",
      "pygments_lexer": "ipython3",
      "version": "3.11.0"
    }
  },
  "nbformat": 4,
  "nbformat_minor": 0
}
