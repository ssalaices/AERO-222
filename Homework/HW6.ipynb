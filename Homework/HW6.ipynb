{
  "cells": [
    {
      "cell_type": "markdown",
      "metadata": {
        "id": "P1F0O7wKA1SU"
      },
      "source": [
        "### **Lab 6: Lagrange Interpolation**\n",
        "\n",
        "Today we will:\n",
        "\n",
        "*  Practice with the product notation\n",
        "*  Practice interpolation using Lagrange polynomials by hand.\n",
        "*  Modify a provided Lagrange code to visualize the process of Lagrange Interpolation\n"
      ]
    },
    {
      "cell_type": "markdown",
      "metadata": {
        "id": "d8jhnvecTuO5"
      },
      "source": [
        "#### **1. Product Notation**\n",
        "\n",
        "Compute the following by hand for $x = 7.5$ and $n = 3$\n",
        "\\begin{equation}\n",
        "f(x,n) = \\prod_{i = 0}^{n} (x-i)\n",
        "\\end{equation}\n",
        "\n",
        "Create a function that can calculate $f(x,n)$ for any number $x$ and any integer $n$. Compare your results to your hand calculations for $x = 7.5$ and $n = 3$.\n",
        "\n",
        "\n"
      ]
    },
    {
      "cell_type": "code",
      "execution_count": 30,
      "metadata": {
        "id": "m-8Wl9C5f9gm"
      },
      "outputs": [
        {
          "name": "stdout",
          "output_type": "stream",
          "text": [
            "1206.5625\n"
          ]
        }
      ],
      "source": [
        "# Starter code\n",
        "def f(x, n):\n",
        "    summation = 1\n",
        "    for i in range(n + 1):\n",
        "        summation = summation * (x - i)\n",
        "\n",
        "    return summation\n",
        "\n",
        "print(f(7.5, 3))"
      ]
    },
    {
      "cell_type": "markdown",
      "metadata": {
        "id": "85dCXp5N0Vxc"
      },
      "source": [
        "#### **2. Lagrange Basis Functions by Hand**\n",
        "\n",
        "The Lagrange basis functions can be represented by the formula\n",
        "\\begin{equation}\n",
        "L_{i}(x) = \\prod_{j = 0, i \\neq j}^{n} \\frac{x-x_{j}}{x_{i}-x_{j}}\n",
        "\\end{equation}\n",
        "\n",
        "where $i=0,1 \\dots n$ and $j=0,1, \\dots n$ and $n$ is equal to the number of points we want our function to pass through.\n",
        "\n",
        "1. On a piece of paper, write out the formula for the first basis function in a Lagrange polynomial $L_{0}(x)$ if $n=2$. Express your answer in terms of $x_0,x_1...x_n$ and $x$.\n",
        "\n",
        "2. Create all three basis functions for the following dataset:\n",
        "\n",
        "$$x = [1, 3, 5]$$\n",
        "\n",
        "$$y = [4,12,17]$$\n",
        "\n"
      ]
    },
    {
      "cell_type": "markdown",
      "metadata": {
        "id": "IUnA8MmM3oKz"
      },
      "source": [
        "#### **3. Lagrange Basis Functions in Code**\n",
        "\n",
        "Provided below is a function that evaluates the first basis function at a given $x$.\n",
        "\n",
        "What should this basis function evaluate to at each of the $x$ values in our list of data points?\n",
        "\n",
        "Check your code to make sure that the basis function is producing the expected value when evaluated at each of the $x$ values in the list.\n",
        "\n",
        "\n",
        "Use the list of data points:\n",
        "\n",
        "$$x = [1, 3, 5, 7]$$\n",
        "\n",
        "$$y = [4,12,17,35]$$\n"
      ]
    },
    {
      "cell_type": "code",
      "execution_count": 31,
      "metadata": {
        "id": "YMIL6vGM0UjS"
      },
      "outputs": [],
      "source": [
        "# Provided code\n",
        "\n",
        "import numpy as np\n",
        "xData = np.array([1, 3, 5, 7])\n",
        "yData = np.array([4,12,17,35])\n",
        "\n",
        "def firstBasisFunc(x,xData):\n",
        "    i = 0\n",
        "    L0 = 1.\n",
        "    for j in range(xData.size):\n",
        "        if  j != i:\n",
        "            L0 = L0 * (x-xData[j])/(xData[i]-xData[j])\n",
        "\n",
        "    return L0"
      ]
    },
    {
      "cell_type": "code",
      "execution_count": 32,
      "metadata": {
        "id": "QTkhrJ7MgJQ0"
      },
      "outputs": [
        {
          "name": "stdout",
          "output_type": "stream",
          "text": [
            "L0(1) = 1.0\n",
            "L0(3) = -0.0\n",
            "L0(5) = 0.0\n",
            "L0(7) = -0.0\n"
          ]
        }
      ],
      "source": [
        "# Solution\n",
        "\n",
        "for x in xData:\n",
        "    L0 = firstBasisFunc(x, xData)\n",
        "    print(f\"L0({x}) = {L0}\")"
      ]
    },
    {
      "cell_type": "markdown",
      "metadata": {
        "id": "yQekwgxPXBgj"
      },
      "source": [
        "#### **4. Plotting the Basis Function**\n",
        "\n",
        "Plot the first basis function on $x=[1,7]$.\n",
        "\n",
        "Does it look like what you expect?"
      ]
    },
    {
      "cell_type": "code",
      "execution_count": 33,
      "metadata": {
        "id": "ml78K8g4gLkQ"
      },
      "outputs": [
        {
          "data": {
            "text/plain": [
              "[<matplotlib.lines.Line2D at 0x2261ffb7c90>]"
            ]
          },
          "execution_count": 33,
          "metadata": {},
          "output_type": "execute_result"
        },
        {
          "data": {
            "image/png": "[encoded data removed]",
            "text/plain": [
              "<Figure size 640x480 with 1 Axes>"
            ]
          },
          "metadata": {},
          "output_type": "display_data"
        }
      ],
      "source": [
        "# Starter code\n",
        "\n",
        "import matplotlib.pyplot as plt\n",
        "\n",
        "xData = np.array([1, 3, 5, 7])\n",
        "yData = np.array([4, 12, 17, 35])\n",
        "xVals = np.linspace(min(xData), max(xData), 100)\n",
        "yVals = np.zeros_like(xVals)\n",
        "\n",
        "for i in range(xVals.size):\n",
        "    yVals[i] = firstBasisFunc(xVals[i], xData)\n",
        "\n",
        "plt.plot(xVals, yVals)"
      ]
    },
    {
      "cell_type": "markdown",
      "metadata": {
        "id": "udVEkcOE1Drh",
        "tags": []
      },
      "source": [
        "#### **5. Creating the Other Basis Functions**\n",
        "\n",
        "Modify the provided code from Exercise 3 to give the basis function correlated with each $x$ value in our list `xData` evaluated at an arbitrary point `x`.\n",
        "\n",
        "That is to say, the function input should include:\n",
        "* a value of $x$ at which the polynomial is to be evaluated, and\n",
        "* a list of $x$ data points\n",
        "\n",
        "It should return a list of each basis function evaluated at that point.\n",
        "\n",
        "Plot all four basis functions on the same plot using a different color for each basis function. Add a legend to the plot."
      ]
    },
    {
      "cell_type": "code",
      "execution_count": 34,
      "metadata": {
        "id": "--KvdVKIgMUh"
      },
      "outputs": [
        {
          "ename": "IndentationError",
          "evalue": "expected an indented block after 'for' statement on line 22 (606635470.py, line 25)",
          "output_type": "error",
          "traceback": [
            "\u001b[1;36m  Cell \u001b[1;32mIn[34], line 25\u001b[1;36m\u001b[0m\n\u001b[1;33m    plt.plot(xVals, yVals)\u001b[0m\n\u001b[1;37m    ^\u001b[0m\n\u001b[1;31mIndentationError\u001b[0m\u001b[1;31m:\u001b[0m expected an indented block after 'for' statement on line 22\n"
          ]
        }
      ],
      "source": [
        "# Starter code\n",
        "\n",
        "xData = np.array([1, 3, 5, 7], dtype = float)\n",
        "yData = np.array([4, 12, 17, 35])\n",
        "\n",
        "def basisFuncs(x,xData):\n",
        "    L = np.zeros_like(xData)\n",
        "    for i in range(xData.size):\n",
        "        Li = 1.0\n",
        "        for j in range(xData.size):\n",
        "            if j != i:\n",
        "                Li = Li * (x-xData[j])/(xData[i]-xData[j])\n",
        "        L[i] = Li\n",
        "    return L\n",
        "\n",
        "xVals = np.linspace(min(xData), max(xData), 50)\n",
        "yVals = np.zeros([xVals.size, xData.size])\n",
        "\n",
        "for i in range(xVals.size):\n",
        "    yVals[i, :] = basisFuncs(xVals[i], xData)\n",
        "\n",
        "for i in range():\n",
        "    \n",
        "\n",
        "plt.plot(xVals, yVals)\n",
        "# Loop your new function similarly to Exercise 4; plot the resulting functions"
      ]
    },
    {
      "cell_type": "markdown",
      "metadata": {
        "id": "R-Krn5WqgU4i"
      },
      "source": [
        "#### **6. Scaling the Basis Functions**\n",
        "\n",
        "Modify the plotting code from Exercise 5 to scale the basis functions so they they pass through their corresponding y-values. Since our basis functions $L_i$ currently pass through $y=1$ at their corresponding $x$ values, this can be done very simply by taking $y_iL_i(x)$."
      ]
    },
    {
      "cell_type": "markdown",
      "metadata": {
        "id": "8j7NsWrbgNFY"
      },
      "source": [
        "# Starter code\n",
        "\n",
        "# Make a very small modification before plotting to incorporate our yData values\n",
        "\n",
        "for i in range(xData.size):\n",
        "    plt.plot(xVals, yVals[:, 1] * yData[i], label = \"Basis Functions\")"
      ]
    },
    {
      "cell_type": "markdown",
      "metadata": {
        "id": "30fL43h3245f"
      },
      "source": [
        "#### **7. Interpolation using Lagrange interpolation (basis) functions**\n",
        "\n",
        "The interpolating function can be expressed as\n",
        "\n",
        "\\begin{equation}f(x) = \\sum_{i=0}^{n-1} y_{i} L_{i}(x)\\end{equation}\n",
        "\n",
        "Generate the interpolating function using the data points provided in Exercise 3 and by modifying the function created in Exercise 5.\n",
        "\n",
        "Hint: Compute the dot product of `yData` with the vector of $L_i$ values that we returned in the function in Exercise 5 and return that instead.\n",
        "\n",
        "\n",
        "Plot this function over the domain where we can still call it \"interpolation.\" Also, plot the data points provided in Exercise 3 in the same plot."
      ]
    },
    {
      "cell_type": "code",
      "execution_count": null,
      "metadata": {
        "id": "MfU0VXCagN1c"
      },
      "outputs": [],
      "source": [
        "# Starter code\n",
        "\n",
        "def lagrangeInterp(x,xData,yData):\n",
        "  pass"
      ]
    }
  ],
  "metadata": {
    "colab": {
      "provenance": []
    },
    "kernelspec": {
      "display_name": "Python 3 (ipykernel)",
      "language": "python",
      "name": "python3"
    },
    "language_info": {
      "codemirror_mode": {
        "name": "ipython",
        "version": 3
      },
      "file_extension": ".py",
      "mimetype": "text/x-python",
      "name": "python",
      "nbconvert_exporter": "python",
      "pygments_lexer": "ipython3",
      "version": "3.11.0"
    }
  },
  "nbformat": 4,
  "nbformat_minor": 0
}
