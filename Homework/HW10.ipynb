{
  "cells": [
    {
      "cell_type": "markdown",
      "metadata": {
        "id": "ldTmm27RAkt-"
      },
      "source": [
        "#### **Spatial Integration**"
      ]
    },
    {
      "cell_type": "markdown",
      "metadata": {
        "id": "NmLjgtlvE2lV"
      },
      "source": [
        "**1. By hand**\n",
        "\n",
        "* How many integration points are required to get an exact integral for a polynomial of order 6 (highest power of x is 6)\n",
        "    * using Newton-Cotes integration?\n",
        "    * using Gauss-Legendre integration?\n",
        "* Why does Gauss-Legendre integration generally require fewer integration points than Newton-Cotes for the same accuracy?\n",
        "* Derive the weights for 3-point Newton-Cotes integration. Also, list the corresponding coordinates of the integration points**"
      ]
    },
    {
      "cell_type": "markdown",
      "metadata": {
        "id": "TFPuI0Aivckx"
      },
      "source": [
        "**2 Gauss-Legendre:   Write Python functions to perform integration using the following methods.**\n",
        "\n",
        "* Newton-Cotes (for 2-point to 4-point integration)\n",
        "* Gauss-Legendre (use the code in the book to calculate the weights and locations of the integration points or hardwire the values for 2-point to 5-point integration)\n",
        "\n",
        "Obtain the weights and integration points from the book, web, or a Python package. Validate your functions by performing integrations for polynomial integrands. If you choose an appropriate number of integration points, you should get the exact solution."
      ]
    },
    {
      "cell_type": "code",
      "execution_count": 36,
      "metadata": {
        "id": "F5vXq18rE2lX"
      },
      "outputs": [],
      "source": [
        "import numpy as np\n",
        "from math import sqrt\n",
        "\n",
        "#NewtonCotes from online source\n",
        "def newtonCotes(f, a, b, n):\n",
        "    h = (b-a) / (n-1)\n",
        "\n",
        "    #weights and such\n",
        "    #as you can see, the more points, the more wacky\n",
        "    if n == 2:\n",
        "        return .5 * h * (f(a) + f(a + h))\n",
        "    if n == 3:\n",
        "        return (1/3) * h * (f(a) + 4*f(a + h) + f(a + 2*h))\n",
        "    if n == 4:\n",
        "        return (3/8) * h * (f(a) + 3*f(a + h) + 3 * f(a + 2*h) + f(a + 3*h))\n",
        "    if n == 5:\n",
        "        return (2/45) * h * (7*f(a) + 32*f(a + h) + 12 * f(a + 2*h) + 32*f(a + 3*h) + 7*f(a + 4*h)) \n",
        "\n",
        "#Gauss-Legendre\n",
        "def gaussQuadrature(f,a,b,n):\n",
        "    [rho, w] = np.polynomial.legendre.leggauss(n)\n",
        "\n",
        "    x = .5*(1 - rho)*a + .5*(1 + rho)*b \n",
        "    J = (b - a)/2\n",
        "\n",
        "    I_GL = 0 #summation initialization\n",
        "\n",
        "    for i in range(len(rho)):\n",
        "        I_GL += w[i]*f(x[i])\n",
        "\n",
        "    I_GL *= J\n",
        "        \n",
        "    return I_GL"
      ]
    },
    {
      "cell_type": "markdown",
      "metadata": {
        "id": "5m7iLkRjvcky"
      },
      "source": [
        "**3. Evaluate $\\int_a^b {{{\\left( {30 - {x^2}} \\right)}^{3/2}}dx}$ by hand with each of these methods:**\n",
        "* Use 3-point Newton-Cotes integration for a = 1, b= 5\n",
        "* Use 2-point Gauss-Legendre integration for a = 1, b= 5\n"
      ]
    },
    {
      "cell_type": "markdown",
      "metadata": {
        "id": "egVZhRXsvcky"
      },
      "source": [
        "**4. Use the Python functions you wrote earlier to evaluate $\\int_a^b {{{\\left( {30 - {x^2}} \\right)}^{3/2}}dx}$.**\n",
        "\n",
        "* Use 5-point Newton-Cotes integration for a = 1, b= 5\n",
        "* Use 3-point Gauss-Legendre integration for a = 1, b= 5\n"
      ]
    },
    {
      "cell_type": "code",
      "execution_count": 37,
      "metadata": {
        "id": "WFWBfRzeD8wZ"
      },
      "outputs": [
        {
          "name": "stdout",
          "output_type": "stream",
          "text": [
            "The solution using 5 point Newton-Cotes is 366.44029576771516.\n",
            "The solution using 3 point Gauss-Legendre is 366.32065086137953.\n"
          ]
        }
      ],
      "source": [
        "def F2(x):\n",
        "    return ((30 - x*x)**(3/2)) # Function to be integrated\n",
        "\n",
        "a = 1.\n",
        "b = 5.\n",
        "\n",
        "#Newton-Cotes\n",
        "I1 = newtonCotes(F2, a, b, 5)\n",
        "print(f\"The solution using {5} point Newton-Cotes is {I1}.\")\n",
        "\n",
        "#Gauss-Legendre\n",
        "I2 = gaussQuadrature(F2, a, b, 3)\n",
        "print(f\"The solution using {3} point Gauss-Legendre is {I2}.\")"
      ]
    },
    {
      "cell_type": "markdown",
      "metadata": {
        "id": "0Dw3DoCovckz"
      },
      "source": [
        "**5. Problem Set 6.2, p. 230: Problem 1**"
      ]
    },
    {
      "cell_type": "code",
      "execution_count": 38,
      "metadata": {
        "id": "jsmETV5kEM6I"
      },
      "outputs": [
        {
          "name": "stdout",
          "output_type": "stream",
          "text": [
            "The solution using 2 point Gauss-Legendre is 0.6067250228624489\n",
            "The solution using 4 point Gauss-Legendre is 0.5847680362127091\n"
          ]
        }
      ],
      "source": [
        "def F2(x):\n",
        "    return (np.log(x))/(x**2 -2*x + 2) # Function to be integrated\n",
        "\n",
        "#Gauss-Legendre\n",
        "a = 1.\n",
        "b = np.pi\n",
        "\n",
        "nvals = [2, 4]\n",
        "\n",
        "for n in nvals:\n",
        "    I = gaussQuadrature(F2, a, b, n)\n",
        "    print(f\"The solution using {n} point Gauss-Legendre is {I}\")"
      ]
    },
    {
      "cell_type": "markdown",
      "metadata": {
        "id": "t5LV47mhvck0"
      },
      "source": [
        "**6. Problem Set 6.2 on p. 231: Problem 14.** Use 5-point Gauss-Legendre integration."
      ]
    },
    {
      "cell_type": "code",
      "execution_count": 39,
      "metadata": {
        "id": "6-vpTObFJKam"
      },
      "outputs": [
        {
          "name": "stdout",
          "output_type": "stream",
          "text": [
            "The solution using 5 point Gauss-Legendre for c = 0.5 is 0.4201583764271097.\n",
            "The solution using 5 point Gauss-Legendre for c = 1 is 0.6063378036262291.\n",
            "The solution using 5 point Gauss-Legendre for c = 2 is 1.0588953460037933.\n"
          ]
        }
      ],
      "source": [
        "def F2(x, c):\n",
        "    return x**2 * np.sqrt(1 + (2 * c * x)**2) # just add a c value you can change\n",
        "\n",
        "#Gauss-Legendre\n",
        "a = 0.\n",
        "b = 1\n",
        "\n",
        "cvals = [.5, 1, 2]\n",
        "\n",
        "#Gauss-Legendre\n",
        "def gaussQuadratureC(f,a,b,n,c):\n",
        "    [rho, w] = np.polynomial.legendre.leggauss(n)\n",
        "\n",
        "    x = .5*(1 - rho)*a + .5*(1 + rho)*b \n",
        "    J = (b - a)/2\n",
        "\n",
        "    I_GL = 0 #summation initialization\n",
        "\n",
        "    for i in range(len(rho)):\n",
        "        I_GL += w[i]*f(x[i], c)\n",
        "\n",
        "    I_GL *= J\n",
        "        \n",
        "    return I_GL\n",
        "\n",
        "for c in cvals:\n",
        "    I = gaussQuadratureC(F2, a, b, 5, c)\n",
        "    print(f\"The solution using {5} point Gauss-Legendre for c = {c} is {I}.\")"
      ]
    },
    {
      "cell_type": "markdown",
      "metadata": {
        "id": "hmBlzkSPvck0"
      },
      "source": [
        "**7. Problem Set 6.2, p. 230: Problem 16.** Clarification: First fit a cubic polynomial to the pressure data using least squares. Then perform numerical integration of the approximate integrands."
      ]
    },
    {
      "cell_type": "code",
      "execution_count": 40,
      "metadata": {
        "id": "qiNeYMe4K1_S"
      },
      "outputs": [
        {
          "name": "stdout",
          "output_type": "stream",
          "text": [
            "Least Squares Polynomial: 309.98028156864297 + 8.988198144924961*x + -0.08981721771636532*x**2 + 0.00030620326915038396*x**3\n",
            "The height of the pressure center is 60.57303049810242 m.\n"
          ]
        }
      ],
      "source": [
        "#Gauss-Legendre\n",
        "def gaussQuadrature(f,a,b,n):\n",
        "    [rho, w] = np.polynomial.legendre.leggauss(n)\n",
        "\n",
        "    x = .5*(1 - rho)*a + .5*(1 + rho)*b \n",
        "    J = (b - a)/2\n",
        "\n",
        "    I_GL = 0 #summation initialization\n",
        "\n",
        "    for i in range(len(rho)):\n",
        "        I_GL += w[i]*f(x[i])\n",
        "\n",
        "    I_GL *= J\n",
        "        \n",
        "    return I_GL\n",
        "\n",
        "#combined least squares and plotting\n",
        "def LeastSquares(x, y, m):\n",
        "\n",
        "    # Create H\n",
        "    n = len(x)\n",
        "    H = np.zeros((n, m+1)) #5 x 2, where 2 is the degree + 1\n",
        "\n",
        "    for j in range(m+1):\n",
        "        for i in range(n):\n",
        "            H[i, j]= x[i]**j #actually fills in H matrix\n",
        "\n",
        "    HTH = H.T @ H\n",
        "    HTy = H.T @ y\n",
        "    \n",
        "    coefficients = np.linalg.solve(HTH, HTy)\n",
        "\n",
        "    return coefficients\n",
        "\n",
        "x = np.array([0, 15, 35, 52, 80, 112])\n",
        "y = np.array([310, 425, 530, 575, 612, 620])\n",
        "\n",
        "coefficients = LeastSquares(x, y, 3)\n",
        "\n",
        "print(f\"Least Squares Polynomial: {coefficients[0]} + {coefficients[1]}*x + {coefficients[2]}*x**2 + {coefficients[3]}*x**3\")\n",
        "\n",
        "def F2(x):\n",
        "    return coefficients[0] + coefficients[1] * x + coefficients[2] * x**2 + coefficients[3] * x**3 \n",
        "\n",
        "def NumeratorF(x):\n",
        "    return x * F2(x)\n",
        "\n",
        "I1 = gaussQuadrature(F2, x[0], x[-1], 2) #\n",
        "I2 = gaussQuadrature(NumeratorF, x[0], x[-1], 3) #function is the NumeratorF\n",
        "\n",
        "ratio = I2/I1\n",
        "\n",
        "print(f\"The height of the pressure center is {ratio} m.\")"
      ]
    }
  ],
  "metadata": {
    "colab": {
      "provenance": []
    },
    "kernelspec": {
      "display_name": "Python 3",
      "language": "python",
      "name": "python3"
    },
    "language_info": {
      "codemirror_mode": {
        "name": "ipython",
        "version": 3
      },
      "file_extension": ".py",
      "mimetype": "text/x-python",
      "name": "python",
      "nbconvert_exporter": "python",
      "pygments_lexer": "ipython3",
      "version": "3.11.0"
    }
  },
  "nbformat": 4,
  "nbformat_minor": 0
}
